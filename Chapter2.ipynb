{
 "cells": [
  {
   "cell_type": "markdown",
   "id": "4d8533d3",
   "metadata": {},
   "source": [
    "# Pytorch的核心概念"
   ]
  },
  {
   "cell_type": "markdown",
   "id": "fae31256",
   "metadata": {},
   "source": [
    "Pytorch是一个基于Python的机器学习库。它广泛应用于计算机视觉，自然语言处理等深度学习领域。是目前和TensorFlow分庭抗礼的深度学习框架，**在学术圈颇受欢迎**\n",
    "\n",
    "它主要提供了以下两种核心功能：\n",
    "\n",
    "1.支持GPU加速的张量计算。\n",
    "\n",
    "2.方便优化模型的自动微分机制。\n",
    "Pytorch的主要优点：\n",
    "\n",
    "1. 简洁易懂：Pytorch的API设计的相当简洁一致。基本上就是tensor, autograd, nn三级封装。\n",
    "\n",
    "2. 便于调试：Pytorch采用动态图，可以像普通Python代码一样进行调试。不同于TensorFlow, Pytorch的报错说明通常很容易看懂。\n",
    "\n",
    "3. 强大高效：Pytorch提供了非常丰富的模型组件，可以快速实现想法。并且运行速度很快。目前大部分深度学习相关的Paper都是用Pytorch实现的。\n",
    "\n",
    "Pytorch底层最核心的概念是:\n",
    "1. **张量**\n",
    "2. **动态计算图**\n",
    "3. **自动微分**\n"
   ]
  },
  {
   "cell_type": "markdown",
   "id": "03b87535",
   "metadata": {},
   "source": [
    "# 张量数据结构\n",
    "\n",
    "Pytorch的基本数据结构是张量Tensor。张量即多维数组\n",
    "\n",
    "Pytorch的张量和numpy中的array很类似\n",
    "本节内容：\n",
    "1. 张量的数据类型\n",
    "2. 张量的维度\n",
    "3. 张量的尺寸\n",
    "4. 张量和numpy数组"
   ]
  },
  {
   "cell_type": "markdown",
   "id": "23bcb21f",
   "metadata": {},
   "source": [
    "## 张量的数据类型\n",
    "\n",
    "张量的数据类型和numpy.array基本一一对应，但是不支持str类型\n",
    "包括:\n",
    "1. torch.float64(torch.double),\n",
    "2. **torch.float32(torch.float)**\n",
    "3. torch.float16,\n",
    "4. torch.int64(torch.long),\n",
    "5. torch.int32(torch.int),\n",
    "6. torch.int16,\n",
    "7. torch.int8,\n",
    "8. torch.uint8,\n",
    "9. torch.bool\n",
    "\n",
    "**一般神经网络建模使用的都是torch.float32类型**"
   ]
  },
  {
   "cell_type": "markdown",
   "id": "ebeb0b82",
   "metadata": {},
   "source": [
    "**自动判断数据类型**"
   ]
  },
  {
   "cell_type": "code",
   "execution_count": 2,
   "id": "59f1c1df",
   "metadata": {},
   "outputs": [
    {
     "name": "stdout",
     "output_type": "stream",
     "text": [
      "tensor(1) torch.int64\n",
      "tensor(2.) torch.float32\n",
      "tensor(True) torch.bool\n"
     ]
    }
   ],
   "source": [
    "import numpy as np\n",
    "import torch\n",
    "i = torch.tensor(1);\n",
    "print(i, i.dtype)\n",
    "\n",
    "x = torch.tensor(2.0)\n",
    "print(x, x.dtype)\n",
    "\n",
    "b = torch.tensor(True)\n",
    "print(b, b.dtype)"
   ]
  },
  {
   "cell_type": "markdown",
   "id": "c2c2c9c3",
   "metadata": {},
   "source": [
    "**指定数据类型**"
   ]
  },
  {
   "cell_type": "code",
   "execution_count": 3,
   "id": "91866d56",
   "metadata": {},
   "outputs": [
    {
     "name": "stdout",
     "output_type": "stream",
     "text": [
      "tensor(1, dtype=torch.int32) torch.int32\n",
      "tensor(2., dtype=torch.float64) torch.float64\n"
     ]
    }
   ],
   "source": [
    "i = torch.tensor(1, dtype= torch.int32)\n",
    "print(i, i.dtype)\n",
    "\n",
    "x = torch.tensor(2.0, dtype=torch.double)\n",
    "print(x, x.dtype)"
   ]
  },
  {
   "cell_type": "markdown",
   "id": "b68dae4f",
   "metadata": {},
   "source": [
    "**使用特定类构造函数**"
   ]
  },
  {
   "cell_type": "code",
   "execution_count": 7,
   "id": "99363c8d",
   "metadata": {},
   "outputs": [
    {
     "name": "stdout",
     "output_type": "stream",
     "text": [
      "tensor([712248608], dtype=torch.int32) torch.int32\n",
      "tensor(2.) torch.float32\n",
      "tensor(2.) torch.float32\n",
      "tensor([ True, False,  True, False]) torch.bool\n"
     ]
    }
   ],
   "source": [
    "i = torch.IntTensor(1)\n",
    "print(i, i.dtype)\n",
    "\n",
    "# 等价于Torch.FloatTensor\n",
    "x = torch.Tensor(np.array(2.0))\n",
    "print(x, x.dtype)\n",
    "\n",
    "#x_f = torch.FloatTensor(2.0)\n",
    "# 注意上面的写法会报错，data must be a sequence\n",
    "x_f = torch.FloatTensor(np.array(2.0))\n",
    "print(x_f, x_f.dtype)\n",
    "\n",
    "b = torch.BoolTensor(np.array([1,0,2,0]))\n",
    "print(b,b.dtype)\n"
   ]
  },
  {
   "cell_type": "markdown",
   "id": "d17c726f",
   "metadata": {},
   "source": [
    "**不同类型进行转换**\n",
    "有三种方法：\n",
    "1. 调用float(), int()\n",
    "2. 调用type(torch.int) \n",
    "3. 调用type_as(x)"
   ]
  },
  {
   "cell_type": "code",
   "execution_count": 15,
   "id": "acd1a2a6",
   "metadata": {},
   "outputs": [
    {
     "name": "stdout",
     "output_type": "stream",
     "text": [
      "tensor(1) torch.int64\n",
      "tensor(1.) torch.float32\n",
      "tensor(1.) torch.float32\n",
      "tensor(1.) torch.float32\n"
     ]
    }
   ],
   "source": [
    "i = torch.tensor(1)\n",
    "print(i,i.dtype)\n",
    "\n",
    "#int64abs --> float32\n",
    "# 调用float()方法进行转换\n",
    "x = i.float()\n",
    "print(x, x.dtype)\n",
    "\n",
    "# 调用type()函数进行转换\n",
    "y = i.type(torch.float)\n",
    "print(y,y.dtype)\n",
    "\n",
    "#使用type_as转换成与指定张量类型相同的类型\n",
    "z = i.type_as(x)\n",
    "print(z,z.dtype)"
   ]
  },
  {
   "cell_type": "markdown",
   "id": "a23bcb4b",
   "metadata": {},
   "source": [
    "## 张量的维度\n",
    "\n",
    "不同类型的数据可以用不同维度(dimension)的张量来表示：\n",
    "1. 标量是0维张量\n",
    "2. 向量是1维张量\n",
    "3. 矩阵是2维张量\n",
    "\n",
    "...\n",
    "\n",
    "彩色图像有rgb三个通道，可以表示为3维张量\n",
    "\n",
    "视频还有时间维，可以表示为4维张量\n",
    "\n",
    "**可以简单地总结为：有几层中括号，就是多少维的张量**"
   ]
  },
  {
   "cell_type": "code",
   "execution_count": 18,
   "id": "fec14736",
   "metadata": {},
   "outputs": [
    {
     "name": "stdout",
     "output_type": "stream",
     "text": [
      "标量\n",
      "tensor(True) 0\n",
      "向量\n",
      "tensor([1., 2., 3., 4., 5.]) 1\n",
      "矩阵\n",
      "tensor([[1., 2., 3.],\n",
      "        [4., 5., 6.]]) 2\n"
     ]
    }
   ],
   "source": [
    "# 标量\n",
    "scalar = torch.tensor(True)\n",
    "print(\"标量\")\n",
    "print(scalar, scalar.dim())\n",
    "\n",
    "# 向量 \n",
    "vector = torch.tensor([1.,2.,3.,4.,5.])\n",
    "print(\"向量\")\n",
    "print(vector, vector.dim())\n",
    "\n",
    "# 矩阵\n",
    "matrix = torch.tensor([[1.,2.,3.,],[4.,5.,6.]])\n",
    "print(\"矩阵\")\n",
    "print(matrix, matrix.dim())"
   ]
  },
  {
   "cell_type": "markdown",
   "id": "ce27b6e4",
   "metadata": {},
   "source": [
    "## 张量的尺寸\n",
    "\n",
    "1. 可以使用` shape`属性或者 `size()`方法查看张量在每一维的长度\n",
    "2. 可以使用`view`方法改变张量的尺寸\n",
    "3. 如果`view`方法改变尺寸失败，可以使用`reshape`方法"
   ]
  },
  {
   "cell_type": "code",
   "execution_count": null,
   "id": "1c5d6bc9",
   "metadata": {},
   "outputs": [],
   "source": []
  }
 ],
 "metadata": {
  "kernelspec": {
   "display_name": "Python 3",
   "language": "python",
   "name": "python3"
  },
  "language_info": {
   "codemirror_mode": {
    "name": "ipython",
    "version": 3
   },
   "file_extension": ".py",
   "mimetype": "text/x-python",
   "name": "python",
   "nbconvert_exporter": "python",
   "pygments_lexer": "ipython3",
   "version": "3.7.0"
  },
  "toc": {
   "base_numbering": 1,
   "nav_menu": {},
   "number_sections": true,
   "sideBar": true,
   "skip_h1_title": false,
   "title_cell": "Table of Contents",
   "title_sidebar": "Contents",
   "toc_cell": false,
   "toc_position": {},
   "toc_section_display": true,
   "toc_window_display": true
  }
 },
 "nbformat": 4,
 "nbformat_minor": 5
}
