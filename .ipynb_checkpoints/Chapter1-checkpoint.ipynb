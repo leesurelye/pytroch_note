{
 "cells": [
  {
   "cell_type": "markdown",
   "id": "94b8326b",
   "metadata": {},
   "source": [
    " # 1-1 结构化数据建模流程范例"
   ]
  },
  {
   "cell_type": "markdown",
   "id": "efc92cba",
   "metadata": {},
   "source": [
    "## 准备数据\n",
    "titanic 数据集的目标是根据乘客信息预测他们在Titanic 号撞击冰山沉没后能否生存\n",
    "\n",
    "结构化数据一般使用Pandas 中的`DataFrame`进行处理"
   ]
  },
  {
   "cell_type": "code",
   "execution_count": 2,
   "id": "2adcd8aa",
   "metadata": {},
   "outputs": [],
   "source": [
    "import numpy as np\n",
    "import pandas as pd\n",
    "import matplotlib.pyplot as plt\n",
    "import torch\n",
    "from torch import nn\n",
    "from torch.utils.data import Dataset, DataLoader, TensorDataset"
   ]
  },
  {
   "cell_type": "markdown",
   "id": "23681d3b",
   "metadata": {},
   "source": [
    "**加载数据**"
   ]
  },
  {
   "cell_type": "code",
   "execution_count": 3,
   "id": "40c6ed69",
   "metadata": {},
   "outputs": [
    {
     "data": {
      "text/html": [
       "<div>\n",
       "<style scoped>\n",
       "    .dataframe tbody tr th:only-of-type {\n",
       "        vertical-align: middle;\n",
       "    }\n",
       "\n",
       "    .dataframe tbody tr th {\n",
       "        vertical-align: top;\n",
       "    }\n",
       "\n",
       "    .dataframe thead th {\n",
       "        text-align: right;\n",
       "    }\n",
       "</style>\n",
       "<table border=\"1\" class=\"dataframe\">\n",
       "  <thead>\n",
       "    <tr style=\"text-align: right;\">\n",
       "      <th></th>\n",
       "      <th>PassengerId</th>\n",
       "      <th>Survived</th>\n",
       "      <th>Pclass</th>\n",
       "      <th>Name</th>\n",
       "      <th>Sex</th>\n",
       "      <th>Age</th>\n",
       "      <th>SibSp</th>\n",
       "      <th>Parch</th>\n",
       "      <th>Ticket</th>\n",
       "      <th>Fare</th>\n",
       "      <th>Cabin</th>\n",
       "      <th>Embarked</th>\n",
       "    </tr>\n",
       "  </thead>\n",
       "  <tbody>\n",
       "    <tr>\n",
       "      <th>0</th>\n",
       "      <td>493</td>\n",
       "      <td>0</td>\n",
       "      <td>1</td>\n",
       "      <td>Molson, Mr. Harry Markland</td>\n",
       "      <td>male</td>\n",
       "      <td>55.0</td>\n",
       "      <td>0</td>\n",
       "      <td>0</td>\n",
       "      <td>113787</td>\n",
       "      <td>30.5000</td>\n",
       "      <td>C30</td>\n",
       "      <td>S</td>\n",
       "    </tr>\n",
       "    <tr>\n",
       "      <th>1</th>\n",
       "      <td>53</td>\n",
       "      <td>1</td>\n",
       "      <td>1</td>\n",
       "      <td>Harper, Mrs. Henry Sleeper (Myna Haxtun)</td>\n",
       "      <td>female</td>\n",
       "      <td>49.0</td>\n",
       "      <td>1</td>\n",
       "      <td>0</td>\n",
       "      <td>PC 17572</td>\n",
       "      <td>76.7292</td>\n",
       "      <td>D33</td>\n",
       "      <td>C</td>\n",
       "    </tr>\n",
       "    <tr>\n",
       "      <th>2</th>\n",
       "      <td>388</td>\n",
       "      <td>1</td>\n",
       "      <td>2</td>\n",
       "      <td>Buss, Miss. Kate</td>\n",
       "      <td>female</td>\n",
       "      <td>36.0</td>\n",
       "      <td>0</td>\n",
       "      <td>0</td>\n",
       "      <td>27849</td>\n",
       "      <td>13.0000</td>\n",
       "      <td>NaN</td>\n",
       "      <td>S</td>\n",
       "    </tr>\n",
       "    <tr>\n",
       "      <th>3</th>\n",
       "      <td>192</td>\n",
       "      <td>0</td>\n",
       "      <td>2</td>\n",
       "      <td>Carbines, Mr. William</td>\n",
       "      <td>male</td>\n",
       "      <td>19.0</td>\n",
       "      <td>0</td>\n",
       "      <td>0</td>\n",
       "      <td>28424</td>\n",
       "      <td>13.0000</td>\n",
       "      <td>NaN</td>\n",
       "      <td>S</td>\n",
       "    </tr>\n",
       "    <tr>\n",
       "      <th>4</th>\n",
       "      <td>687</td>\n",
       "      <td>0</td>\n",
       "      <td>3</td>\n",
       "      <td>Panula, Mr. Jaako Arnold</td>\n",
       "      <td>male</td>\n",
       "      <td>14.0</td>\n",
       "      <td>4</td>\n",
       "      <td>1</td>\n",
       "      <td>3101295</td>\n",
       "      <td>39.6875</td>\n",
       "      <td>NaN</td>\n",
       "      <td>S</td>\n",
       "    </tr>\n",
       "    <tr>\n",
       "      <th>5</th>\n",
       "      <td>16</td>\n",
       "      <td>1</td>\n",
       "      <td>2</td>\n",
       "      <td>Hewlett, Mrs. (Mary D Kingcome)</td>\n",
       "      <td>female</td>\n",
       "      <td>55.0</td>\n",
       "      <td>0</td>\n",
       "      <td>0</td>\n",
       "      <td>248706</td>\n",
       "      <td>16.0000</td>\n",
       "      <td>NaN</td>\n",
       "      <td>S</td>\n",
       "    </tr>\n",
       "    <tr>\n",
       "      <th>6</th>\n",
       "      <td>228</td>\n",
       "      <td>0</td>\n",
       "      <td>3</td>\n",
       "      <td>Lovell, Mr. John Hall (\"Henry\")</td>\n",
       "      <td>male</td>\n",
       "      <td>20.5</td>\n",
       "      <td>0</td>\n",
       "      <td>0</td>\n",
       "      <td>A/5 21173</td>\n",
       "      <td>7.2500</td>\n",
       "      <td>NaN</td>\n",
       "      <td>S</td>\n",
       "    </tr>\n",
       "    <tr>\n",
       "      <th>7</th>\n",
       "      <td>884</td>\n",
       "      <td>0</td>\n",
       "      <td>2</td>\n",
       "      <td>Banfield, Mr. Frederick James</td>\n",
       "      <td>male</td>\n",
       "      <td>28.0</td>\n",
       "      <td>0</td>\n",
       "      <td>0</td>\n",
       "      <td>C.A./SOTON 34068</td>\n",
       "      <td>10.5000</td>\n",
       "      <td>NaN</td>\n",
       "      <td>S</td>\n",
       "    </tr>\n",
       "    <tr>\n",
       "      <th>8</th>\n",
       "      <td>168</td>\n",
       "      <td>0</td>\n",
       "      <td>3</td>\n",
       "      <td>Skoog, Mrs. William (Anna Bernhardina Karlsson)</td>\n",
       "      <td>female</td>\n",
       "      <td>45.0</td>\n",
       "      <td>1</td>\n",
       "      <td>4</td>\n",
       "      <td>347088</td>\n",
       "      <td>27.9000</td>\n",
       "      <td>NaN</td>\n",
       "      <td>S</td>\n",
       "    </tr>\n",
       "    <tr>\n",
       "      <th>9</th>\n",
       "      <td>752</td>\n",
       "      <td>1</td>\n",
       "      <td>3</td>\n",
       "      <td>Moor, Master. Meier</td>\n",
       "      <td>male</td>\n",
       "      <td>6.0</td>\n",
       "      <td>0</td>\n",
       "      <td>1</td>\n",
       "      <td>392096</td>\n",
       "      <td>12.4750</td>\n",
       "      <td>E121</td>\n",
       "      <td>S</td>\n",
       "    </tr>\n",
       "  </tbody>\n",
       "</table>\n",
       "</div>"
      ],
      "text/plain": [
       "   PassengerId  Survived  Pclass  \\\n",
       "0          493         0       1   \n",
       "1           53         1       1   \n",
       "2          388         1       2   \n",
       "3          192         0       2   \n",
       "4          687         0       3   \n",
       "5           16         1       2   \n",
       "6          228         0       3   \n",
       "7          884         0       2   \n",
       "8          168         0       3   \n",
       "9          752         1       3   \n",
       "\n",
       "                                              Name     Sex   Age  SibSp  \\\n",
       "0                       Molson, Mr. Harry Markland    male  55.0      0   \n",
       "1         Harper, Mrs. Henry Sleeper (Myna Haxtun)  female  49.0      1   \n",
       "2                                 Buss, Miss. Kate  female  36.0      0   \n",
       "3                            Carbines, Mr. William    male  19.0      0   \n",
       "4                         Panula, Mr. Jaako Arnold    male  14.0      4   \n",
       "5                 Hewlett, Mrs. (Mary D Kingcome)   female  55.0      0   \n",
       "6                  Lovell, Mr. John Hall (\"Henry\")    male  20.5      0   \n",
       "7                    Banfield, Mr. Frederick James    male  28.0      0   \n",
       "8  Skoog, Mrs. William (Anna Bernhardina Karlsson)  female  45.0      1   \n",
       "9                              Moor, Master. Meier    male   6.0      0   \n",
       "\n",
       "   Parch            Ticket     Fare Cabin Embarked  \n",
       "0      0            113787  30.5000   C30        S  \n",
       "1      0          PC 17572  76.7292   D33        C  \n",
       "2      0             27849  13.0000   NaN        S  \n",
       "3      0             28424  13.0000   NaN        S  \n",
       "4      1           3101295  39.6875   NaN        S  \n",
       "5      0            248706  16.0000   NaN        S  \n",
       "6      0         A/5 21173   7.2500   NaN        S  \n",
       "7      0  C.A./SOTON 34068  10.5000   NaN        S  \n",
       "8      4            347088  27.9000   NaN        S  \n",
       "9      1            392096  12.4750  E121        S  "
      ]
     },
     "execution_count": 3,
     "metadata": {},
     "output_type": "execute_result"
    }
   ],
   "source": [
    "raw_dftrain = pd.read_csv('./data/titanic/train.csv')\n",
    "raw_dftest = pd.read_csv('./data/titanic/test.csv')\n",
    "# 显示数据集\n",
    "raw_dftrain.head(10)"
   ]
  },
  {
   "cell_type": "markdown",
   "id": "fc49aa5e",
   "metadata": {},
   "source": [
    "**Explor Data Analysis**"
   ]
  },
  {
   "cell_type": "code",
   "execution_count": 5,
   "id": "7d64735a",
   "metadata": {},
   "outputs": [
    {
     "data": {
      "image/png": "[encoded data removed]",
      "text/plain": [
       "<Figure size 864x576 with 1 Axes>"
      ]
     },
     "metadata": {
      "needs_background": "light"
     },
     "output_type": "display_data"
    }
   ],
   "source": [
    "# %是什么意思？\n",
    "%matplotlib inline\n",
    "%config InlineBackend.figure_format='png'\n",
    "ax = raw_dftrain['Survived'].value_counts().plot(kind = 'bar', figsize = (12,8), fontsize=15, rot=0)\n",
    "ax.set_ylabel('Counts', fontsize=15)\n",
    "ax.set_xlabel('Survived',fontsize=15)\n",
    "plt.show()"
   ]
  },
  {
   "cell_type": "markdown",
   "id": "53fdd140",
   "metadata": {},
   "source": [
    "**年龄分布情况**"
   ]
  },
  {
   "cell_type": "code",
   "execution_count": 6,
   "id": "5f192f7b",
   "metadata": {},
   "outputs": [
    {
     "data": {
      "image/png": "[encoded data removed]",
      "text/plain": [
       "<Figure size 864x576 with 1 Axes>"
      ]
     },
     "metadata": {
      "needs_background": "light"
     },
     "output_type": "display_data"
    }
   ],
   "source": [
    "%matplotlib inline\n",
    "%config InlineBackend.figure_format = 'png'\n",
    "ax = raw_dftrain['Age'].plot(kind = 'hist', bins = 20, color = 'purple', figsize = (12,8), fontsize=15)\n",
    "ax.set_ylabel('Frequency', fontsize=15)\n",
    "ax.set_xlabel('Age', fontsize=15)\n",
    "plt.show()"
   ]
  },
  {
   "cell_type": "markdown",
   "id": "f8df2fcf",
   "metadata": {},
   "source": [
    "**年龄和label的相关性**"
   ]
  },
  {
   "cell_type": "code",
   "execution_count": 8,
   "id": "a84d3c4d",
   "metadata": {},
   "outputs": [
    {
     "data": {
      "image/png": "[encoded data removed]",
      "text/plain": [
       "<Figure size 864x576 with 1 Axes>"
      ]
     },
     "metadata": {
      "needs_background": "light"
     },
     "output_type": "display_data"
    }
   ],
   "source": [
    "ax = raw_dftrain.query('Survived ==0 ')['Age'].plot(kind = 'density', figsize=(12,8), fontsize=15)\n",
    "raw_dftrain.query('Survived==1')['Age'].plot(kind = 'density',figsize=(12,8), fontsize =15)\n",
    "ax.legend(['Survived==0','Survived==1'], fontsize=12)\n",
    "ax.set_ylabel('Density', fontsize = 15)\n",
    "ax.set_xlabel('Age',fontsize=15)\n",
    "plt.show()"
   ]
  },
  {
   "cell_type": "markdown",
   "id": "b8a33717",
   "metadata": {},
   "source": [
    "**下面是正式的数据预处理**"
   ]
  },
  {
   "cell_type": "code",
   "execution_count": 63,
   "id": "7409f5db",
   "metadata": {},
   "outputs": [],
   "source": [
    "def preprocessing(data):\n",
    "    result = pd.DataFrame()\n",
    "    # Pclass 乘客所持有的票类 有三种值（1,2,3）转换沉成absonehot编码\n",
    "    # get_dummies 是利用pandas实现one hot encode的方式\n",
    "    #Pclass\n",
    "    dfPclass = pd.get_dummies(data['Pclass'])\n",
    "    dfPclass.columns = ['Pclass_' +str(x) for x in dfPclass.columns ]\n",
    "    result = pd.concat([result,dfPclass],axis = 1)\n",
    "    \n",
    "    #Sex\n",
    "    dfSex = pd.get_dummies(data['Sex'])\n",
    "    result = pd.concat([result,dfSex],axis = 1)\n",
    "    \n",
    "    #Age\n",
    "    result['Age'] = data['Age'].fillna(0)\n",
    "    result['Age_null'] = pd.isna(data['Age']).astype('int32')\n",
    "    \n",
    "     #SibSp,Parch,Fare\n",
    "    result['SibSp'] = data['SibSp']\n",
    "    result['Parch'] = data['Parch']\n",
    "    result['Fare'] = data['Fare']\n",
    "    \n",
    "    # Cabin cabs客所在的船舱\n",
    "    #Carbin\n",
    "    result['Cabin_null'] =  pd.isna(data['Cabin']).astype('int32')\n",
    "    \n",
    "    #Embarked 乘客登船港口：S C Q nan\n",
    "    # nan  = not a number\n",
    "    embarked = pd.get_dummies(data['Embarked'], dummy_na=True)\n",
    "    embarked.columns = ['Embarked_'+str(x) for x in embarked.columns]\n",
    "    result = pd.concat([result, embarked],axis=1)\n",
    "    \n",
    "    return(result)"
   ]
  },
  {
   "cell_type": "code",
   "execution_count": 64,
   "id": "f1b288de",
   "metadata": {},
   "outputs": [
    {
     "name": "stdout",
     "output_type": "stream",
     "text": [
      "x_train.shape= (712, 15)\n",
      "x_test.shape= (179, 15)\n",
      "y_train.shape= (712, 1)\n",
      "y_test.shape= (179, 1)\n"
     ]
    }
   ],
   "source": [
    "x_train = preprocessing(raw_dftrain).values\n",
    "# y_train 变成为二维数组 array([[]])\n",
    "y_train = raw_dftrain[['Survived']].values\n",
    "\n",
    "x_test = preprocessing(raw_dftest).values\n",
    "y_test = raw_dftest[['Survived']].values\n",
    "\n",
    "print(\"x_train.shape=\", x_train.shape)\n",
    "print(\"x_test.shape=\", x_test.shape)\n",
    "\n",
    "print(\"y_train.shape=\",y_train.shape)\n",
    "print(\"y_test.shape=\",y_test.shape)"
   ]
  },
  {
   "cell_type": "markdown",
   "id": "811d6de2",
   "metadata": {},
   "source": [
    "进一步使用`DataLoader` 和 `TensorDataset`封装成可以迭代的数据管道"
   ]
  },
  {
   "cell_type": "code",
   "execution_count": 65,
   "id": "275815d3",
   "metadata": {},
   "outputs": [],
   "source": [
    "dataloader_train = DataLoader(TensorDataset(torch.tensor(x_train).float(), torch.tensor(y_train).float()) , \n",
    "                              shuffle=True, batch_size=8)\n",
    "\n",
    "dataloader_valid = DataLoader(TensorDataset(torch.tensor(x_test).float(), torch.tensor(y_test).float()),\n",
    "                             shuffle=False, batch_size=8)"
   ]
  },
  {
   "cell_type": "code",
   "execution_count": 72,
   "id": "8a24a1ba",
   "metadata": {},
   "outputs": [
    {
     "name": "stdout",
     "output_type": "stream",
     "text": [
      "tensor([[ 1.0000,  0.0000,  0.0000,  1.0000,  0.0000, 35.0000,  0.0000,  1.0000,\n",
      "          0.0000, 52.0000,  1.0000,  0.0000,  0.0000,  1.0000,  0.0000],\n",
      "        [ 0.0000,  0.0000,  1.0000,  0.0000,  1.0000, 40.0000,  0.0000,  1.0000,\n",
      "          4.0000, 27.9000,  1.0000,  0.0000,  0.0000,  1.0000,  0.0000],\n",
      "        [ 0.0000,  0.0000,  1.0000,  0.0000,  1.0000, 30.0000,  0.0000,  0.0000,\n",
      "          0.0000,  7.2500,  1.0000,  0.0000,  0.0000,  1.0000,  0.0000],\n",
      "        [ 0.0000,  1.0000,  0.0000,  0.0000,  1.0000, 48.0000,  0.0000,  0.0000,\n",
      "          0.0000, 13.0000,  1.0000,  0.0000,  0.0000,  1.0000,  0.0000],\n",
      "        [ 0.0000,  0.0000,  1.0000,  0.0000,  1.0000, 16.0000,  0.0000,  2.0000,\n",
      "          0.0000, 18.0000,  1.0000,  0.0000,  0.0000,  1.0000,  0.0000],\n",
      "        [ 1.0000,  0.0000,  0.0000,  1.0000,  0.0000, 35.0000,  0.0000,  1.0000,\n",
      "          0.0000, 53.1000,  0.0000,  0.0000,  0.0000,  1.0000,  0.0000],\n",
      "        [ 1.0000,  0.0000,  0.0000,  0.0000,  1.0000, 29.0000,  0.0000,  1.0000,\n",
      "          0.0000, 66.6000,  0.0000,  0.0000,  0.0000,  1.0000,  0.0000],\n",
      "        [ 0.0000,  0.0000,  1.0000,  0.0000,  1.0000, 34.0000,  0.0000,  0.0000,\n",
      "          0.0000,  8.0500,  1.0000,  0.0000,  0.0000,  1.0000,  0.0000]])\n",
      "torch.Size([8, 15])\n",
      "tensor([[1.],\n",
      "        [0.],\n",
      "        [0.],\n",
      "        [0.],\n",
      "        [0.],\n",
      "        [1.],\n",
      "        [0.],\n",
      "        [0.]])\n",
      "torch.Size([8, 1])\n"
     ]
    }
   ],
   "source": [
    "# 测试数据管\n",
    "for features, labels in dataloader_train:\n",
    "    print(features)\n",
    "    print(features.shape)\n",
    "    print(labels)\n",
    "    print(labels.shape)\n",
    "    break"
   ]
  },
  {
   "cell_type": "markdown",
   "id": "b69665d1",
   "metadata": {},
   "source": [
    "## 定义模型"
   ]
  },
  {
   "cell_type": "markdown",
   "id": "870c33ae",
   "metadata": {},
   "source": [
    "使用pytorch构建模型有三种方式：\n",
    "- nn.Sequential 按层顺序构建模型\n",
    "- 继承nn.Module 类构建自定义模型\n",
    "- 继承nn.Module类构建模型并辅助应用模型容器进行封装\n",
    "\n",
    "注：此处选择最简单的nn.Sequential，按层顺序建立模型"
   ]
  },
  {
   "cell_type": "code",
   "execution_count": 73,
   "id": "b453fe17",
   "metadata": {},
   "outputs": [],
   "source": [
    "def create_net():\n",
    "    net = nn.Sequential()\n",
    "    net.add_module(\"linear1\",nn.Linear(15,20))\n",
    "    net.add_module(\"relu1\", nn.ReLU())\n",
    "    net.add_module(\"linear2\",nn.Linear(20,15))\n",
    "    net.add_module('relu2', nn.ReLU())\n",
    "    net.add_module('linear3',nn.Linear(15,1))\n",
    "    net.add_module('sigmoid',nn.Sigmoid())\n",
    "    return net"
   ]
  },
  {
   "cell_type": "code",
   "execution_count": 74,
   "id": "987851bc",
   "metadata": {},
   "outputs": [
    {
     "name": "stdout",
     "output_type": "stream",
     "text": [
      "Sequential(\n",
      "  (linear1): Linear(in_features=15, out_features=20, bias=True)\n",
      "  (relu1): ReLU()\n",
      "  (linear2): Linear(in_features=20, out_features=15, bias=True)\n",
      "  (relu2): ReLU()\n",
      "  (linear3): Linear(in_features=15, out_features=1, bias=True)\n",
      "  (sigmoid): Sigmoid()\n",
      ")\n"
     ]
    }
   ],
   "source": [
    "net = create_net()\n",
    "print(net)"
   ]
  },
  {
   "cell_type": "code",
   "execution_count": 76,
   "id": "edd45687",
   "metadata": {},
   "outputs": [
    {
     "name": "stdout",
     "output_type": "stream",
     "text": [
      "----------------------------------------------------------------\n",
      "        Layer (type)               Output Shape         Param #\n",
      "================================================================\n",
      "            Linear-1                   [-1, 20]             320\n",
      "              ReLU-2                   [-1, 20]               0\n",
      "            Linear-3                   [-1, 15]             315\n",
      "              ReLU-4                   [-1, 15]               0\n",
      "            Linear-5                    [-1, 1]              16\n",
      "           Sigmoid-6                    [-1, 1]               0\n",
      "================================================================\n",
      "Total params: 651\n",
      "Trainable params: 651\n",
      "Non-trainable params: 0\n",
      "----------------------------------------------------------------\n",
      "Input size (MB): 0.000057\n",
      "Forward/backward pass size (MB): 0.000549\n",
      "Params size (MB): 0.002483\n",
      "Estimated Total Size (MB): 0.003090\n",
      "----------------------------------------------------------------\n"
     ]
    }
   ],
   "source": [
    "from torchkeras import summary\n",
    "summary(net, input_shape=(15,))"
   ]
  },
  {
   "cell_type": "markdown",
   "id": "ef303926",
   "metadata": {},
   "source": [
    "## 训练模型"
   ]
  },
  {
   "cell_type": "markdown",
   "id": "0641c441",
   "metadata": {},
   "source": [
    "passytorch通常需要自己编写自定义循环训练函数，有三种方式：\n",
    "- 脚本形式\n",
    "- 函数式\n",
    "- 类形式\n",
    "\n",
    "此处使用比较通用的脚本形式"
   ]
  },
  {
   "cell_type": "code",
   "execution_count": 77,
   "id": "00e56472",
   "metadata": {},
   "outputs": [],
   "source": [
    "from sklearn.metrics import accuracy_score\n",
    "\n",
    "loss_func = nn.BCELoss()\n",
    "optimizer = torch.optim.Adam(params=net.parameters(),lr=0.01)\n",
    "metric_func = lambda y_pred, y_true: accuracy_score(y_true.data.numpy(), y_pred.data.numpy()>0.5)\n",
    "metric_name = \"accuracy\""
   ]
  },
  {
   "cell_type": "code",
   "execution_count": 81,
   "id": "f6ed387b",
   "metadata": {},
   "outputs": [
    {
     "name": "stdout",
     "output_type": "stream",
     "text": [
      "Start Training...\n",
      "================================================================2021-08-09 19:59:39\n",
      "[step=30] loss:0.455,accuracy:0.787\n",
      "[step=60] loss:0.445,accuracy:0.808\n",
      "\n",
      " epoch=1, loss = 0.453, metric = 0.815, val_loss=0.429, val_accuracy=0.799\n",
      "================================================================================================2021-08-09 19:59:40\n",
      "[step=30] loss:0.439,accuracy:0.804\n",
      "[step=60] loss:0.446,accuracy:0.817\n",
      "\n",
      " epoch=2, loss = 0.440, metric = 0.819, val_loss=0.401, val_accuracy=0.804\n",
      "================================================================================================2021-08-09 19:59:40\n",
      "[step=30] loss:0.437,accuracy:0.825\n",
      "[step=60] loss:0.420,accuracy:0.823\n",
      "\n",
      " epoch=3, loss = 0.430, metric = 0.815, val_loss=0.416, val_accuracy=0.832\n",
      "================================================================================================2021-08-09 19:59:40\n",
      "[step=30] loss:0.448,accuracy:0.842\n",
      "[step=60] loss:0.470,accuracy:0.806\n",
      "\n",
      " epoch=4, loss = 0.454, metric = 0.813, val_loss=0.433, val_accuracy=0.788\n",
      "================================================================================================2021-08-09 19:59:40\n",
      "[step=30] loss:0.397,accuracy:0.825\n",
      "[step=60] loss:0.421,accuracy:0.817\n",
      "\n",
      " epoch=5, loss = 0.434, metric = 0.812, val_loss=0.418, val_accuracy=0.810\n",
      "================================================================================================2021-08-09 19:59:40\n",
      "[step=30] loss:0.427,accuracy:0.808\n",
      "[step=60] loss:0.437,accuracy:0.804\n",
      "\n",
      " epoch=6, loss = 0.428, metric = 0.806, val_loss=0.406, val_accuracy=0.799\n",
      "================================================================================================2021-08-09 19:59:40\n",
      "[step=30] loss:0.458,accuracy:0.825\n",
      "[step=60] loss:0.473,accuracy:0.808\n",
      "\n",
      " epoch=7, loss = 0.434, metric = 0.823, val_loss=0.474, val_accuracy=0.793\n",
      "================================================================================================2021-08-09 19:59:40\n",
      "[step=30] loss:0.484,accuracy:0.812\n",
      "[step=60] loss:0.418,accuracy:0.827\n",
      "\n",
      " epoch=8, loss = 0.436, metric = 0.822, val_loss=0.408, val_accuracy=0.788\n",
      "================================================================================================2021-08-09 19:59:41\n",
      "[step=30] loss:0.407,accuracy:0.829\n",
      "[step=60] loss:0.424,accuracy:0.821\n",
      "\n",
      " epoch=9, loss = 0.448, metric = 0.812, val_loss=0.428, val_accuracy=0.788\n",
      "================================================================================================2021-08-09 19:59:41\n",
      "[step=30] loss:0.467,accuracy:0.808\n",
      "[step=60] loss:0.426,accuracy:0.827\n",
      "\n",
      " epoch=10, loss = 0.431, metric = 0.816, val_loss=0.430, val_accuracy=0.815\n",
      "================================================================================================2021-08-09 19:59:41\n",
      "Finish training...\n"
     ]
    }
   ],
   "source": [
    "import datetime\n",
    "\n",
    "epochs = 10\n",
    "log_step_freq = 30\n",
    "history = pd.DataFrame(columns=['epoch','loss', metric_name,'val_loss', 'val_'+metric_name])\n",
    "print(\"Start Training...\")\n",
    "nowtime = datetime.datetime.now().strftime('%Y-%m-%d %H:%M:%S')\n",
    "print('========'*8 +'%s'%nowtime)\n",
    "\n",
    "for epoch in range(1, epochs+1):\n",
    "    # 1. 训练循环\n",
    "    net.train()\n",
    "    loss_sum = 0.0\n",
    "    metric_sum =0.0\n",
    "    step = 1\n",
    "    \n",
    "    for step, (features, labels) in enumerate(dataloader_train,1):\n",
    "        # 梯度清零\n",
    "        optimizer.zero_grad()\n",
    "        # 正向传播求损失\n",
    "        predictions = net(features)\n",
    "        loss = loss_func(predictions, labels)\n",
    "        metric = metric_func(predictions, labels)\n",
    "        \n",
    "        # 反向传播求梯度\n",
    "        loss.backward()\n",
    "        optimizer.step()\n",
    "        \n",
    "        # 打印batch级别的日志\n",
    "        loss_sum +=loss.item()\n",
    "        metric_sum += metric.item()\n",
    "        if step%log_step_freq ==0:\n",
    "            print((f\"[step=%d] loss:%.3f,{metric_name}:%.3f\") %(step, loss_sum/step, metric_sum/step))\n",
    "    # evaluation \n",
    "    net.eval()\n",
    "    val_loss_sum = 0.0\n",
    "    val_metric_sum = 0.0\n",
    "    val_step = 1\n",
    "    \n",
    "    for val_step, (features, labels) in enumerate(dataloader_valid,1):\n",
    "        # 关闭计算梯度\n",
    "        with torch.no_grad():\n",
    "            predictions = net(features)\n",
    "            val_loss = loss_func(predictions, labels)\n",
    "            val_metric = metric_func(predictions, labels)\n",
    "        val_loss_sum +=val_loss.item()\n",
    "        val_metric_sum +=val_metric.item()\n",
    "        \n",
    "    # 记录日志\n",
    "    info = (epoch, loss_sum/step, metric_sum/step, val_loss_sum/val_step, val_metric_sum/val_step)\n",
    "    history.loc[epoch-1] = info\n",
    "    \n",
    "    # 打印epoch级别的日志\n",
    "    print((f\"\\n epoch=%d, loss = %.3f, metric = %.3f, val_loss=%.3f, val_{metric_name}=%.3f\") %info)\n",
    "    nowtime = datetime.datetime.now().strftime('%Y-%m-%d %H:%M:%S')\n",
    "    print('============'*8+'%s'%nowtime)\n",
    "\n",
    "print(\"Finish training...\")"
   ]
  },
  {
   "cell_type": "markdown",
   "id": "6862189c",
   "metadata": {},
   "source": [
    "## 评估模型\n",
    "\n",
    "查看模型在训练集和验证集的效果"
   ]
  },
  {
   "cell_type": "code",
   "execution_count": 82,
   "id": "7a7081e8",
   "metadata": {},
   "outputs": [
    {
     "data": {
      "text/html": [
       "<div>\n",
       "<style scoped>\n",
       "    .dataframe tbody tr th:only-of-type {\n",
       "        vertical-align: middle;\n",
       "    }\n",
       "\n",
       "    .dataframe tbody tr th {\n",
       "        vertical-align: top;\n",
       "    }\n",
       "\n",
       "    .dataframe thead th {\n",
       "        text-align: right;\n",
       "    }\n",
       "</style>\n",
       "<table border=\"1\" class=\"dataframe\">\n",
       "  <thead>\n",
       "    <tr style=\"text-align: right;\">\n",
       "      <th></th>\n",
       "      <th>epoch</th>\n",
       "      <th>loss</th>\n",
       "      <th>accuracy</th>\n",
       "      <th>val_loss</th>\n",
       "      <th>val_accuracy</th>\n",
       "    </tr>\n",
       "  </thead>\n",
       "  <tbody>\n",
       "    <tr>\n",
       "      <th>0</th>\n",
       "      <td>1.0</td>\n",
       "      <td>0.452936</td>\n",
       "      <td>0.814607</td>\n",
       "      <td>0.428862</td>\n",
       "      <td>0.798913</td>\n",
       "    </tr>\n",
       "    <tr>\n",
       "      <th>1</th>\n",
       "      <td>2.0</td>\n",
       "      <td>0.439502</td>\n",
       "      <td>0.818820</td>\n",
       "      <td>0.400677</td>\n",
       "      <td>0.804348</td>\n",
       "    </tr>\n",
       "    <tr>\n",
       "      <th>2</th>\n",
       "      <td>3.0</td>\n",
       "      <td>0.430246</td>\n",
       "      <td>0.814607</td>\n",
       "      <td>0.416206</td>\n",
       "      <td>0.831522</td>\n",
       "    </tr>\n",
       "    <tr>\n",
       "      <th>3</th>\n",
       "      <td>4.0</td>\n",
       "      <td>0.453722</td>\n",
       "      <td>0.813202</td>\n",
       "      <td>0.433448</td>\n",
       "      <td>0.788043</td>\n",
       "    </tr>\n",
       "    <tr>\n",
       "      <th>4</th>\n",
       "      <td>5.0</td>\n",
       "      <td>0.434064</td>\n",
       "      <td>0.811798</td>\n",
       "      <td>0.417994</td>\n",
       "      <td>0.809783</td>\n",
       "    </tr>\n",
       "    <tr>\n",
       "      <th>5</th>\n",
       "      <td>6.0</td>\n",
       "      <td>0.427691</td>\n",
       "      <td>0.806180</td>\n",
       "      <td>0.406301</td>\n",
       "      <td>0.798913</td>\n",
       "    </tr>\n",
       "    <tr>\n",
       "      <th>6</th>\n",
       "      <td>7.0</td>\n",
       "      <td>0.434413</td>\n",
       "      <td>0.823034</td>\n",
       "      <td>0.473514</td>\n",
       "      <td>0.793478</td>\n",
       "    </tr>\n",
       "    <tr>\n",
       "      <th>7</th>\n",
       "      <td>8.0</td>\n",
       "      <td>0.435921</td>\n",
       "      <td>0.821629</td>\n",
       "      <td>0.408020</td>\n",
       "      <td>0.788043</td>\n",
       "    </tr>\n",
       "    <tr>\n",
       "      <th>8</th>\n",
       "      <td>9.0</td>\n",
       "      <td>0.448393</td>\n",
       "      <td>0.811798</td>\n",
       "      <td>0.428200</td>\n",
       "      <td>0.788043</td>\n",
       "    </tr>\n",
       "    <tr>\n",
       "      <th>9</th>\n",
       "      <td>10.0</td>\n",
       "      <td>0.431006</td>\n",
       "      <td>0.816011</td>\n",
       "      <td>0.430401</td>\n",
       "      <td>0.815217</td>\n",
       "    </tr>\n",
       "  </tbody>\n",
       "</table>\n",
       "</div>"
      ],
      "text/plain": [
       "   epoch      loss  accuracy  val_loss  val_accuracy\n",
       "0    1.0  0.452936  0.814607  0.428862      0.798913\n",
       "1    2.0  0.439502  0.818820  0.400677      0.804348\n",
       "2    3.0  0.430246  0.814607  0.416206      0.831522\n",
       "3    4.0  0.453722  0.813202  0.433448      0.788043\n",
       "4    5.0  0.434064  0.811798  0.417994      0.809783\n",
       "5    6.0  0.427691  0.806180  0.406301      0.798913\n",
       "6    7.0  0.434413  0.823034  0.473514      0.793478\n",
       "7    8.0  0.435921  0.821629  0.408020      0.788043\n",
       "8    9.0  0.448393  0.811798  0.428200      0.788043\n",
       "9   10.0  0.431006  0.816011  0.430401      0.815217"
      ]
     },
     "execution_count": 82,
     "metadata": {},
     "output_type": "execute_result"
    }
   ],
   "source": [
    "history"
   ]
  },
  {
   "cell_type": "code",
   "execution_count": 83,
   "id": "e51e2cb7",
   "metadata": {},
   "outputs": [],
   "source": [
    "import matplotlib.pyplot as plt\n",
    "\n",
    "def plot_metric(history, metric):\n",
    "    train_metrics = history[metric]\n",
    "    val_metrics = history['val_'+metric]\n",
    "    epochs = range(1, len(train_metrics)+1)\n",
    "    \n",
    "    plt.plot(epochs, train_metrics, 'bo--')\n",
    "    plt.plot(epochs, val_metrics, 'ro-')\n",
    "    \n",
    "    plt.title(\"Training and Validation \" +metric)\n",
    "    plt.xlabel(\"Epochs\")\n",
    "    plt.ylabel(metric)\n",
    "    plt.legend(['train_'+metric, 'val_'+metric])\n",
    "    plt.show()"
   ]
  },
  {
   "cell_type": "code",
   "execution_count": 84,
   "id": "64730318",
   "metadata": {},
   "outputs": [
    {
     "data": {
      "image/png": "[encoded data removed]",
      "text/plain": [
       "<Figure size 432x288 with 1 Axes>"
      ]
     },
     "metadata": {
      "needs_background": "light"
     },
     "output_type": "display_data"
    }
   ],
   "source": [
    "plot_metric(history,'loss')"
   ]
  },
  {
   "cell_type": "code",
   "execution_count": 85,
   "id": "687d2b78",
   "metadata": {},
   "outputs": [
    {
     "data": {
      "image/png": "[encoded data removed]",
      "text/plain": [
       "<Figure size 432x288 with 1 Axes>"
      ]
     },
     "metadata": {
      "needs_background": "light"
     },
     "output_type": "display_data"
    }
   ],
   "source": [
    "plot_metric(history,'accuracy')"
   ]
  },
  {
   "cell_type": "markdown",
   "id": "4ab26479",
   "metadata": {},
   "source": [
    "## 使用模型\n",
    "\n",
    "预测概率"
   ]
  },
  {
   "cell_type": "code",
   "execution_count": 86,
   "id": "a4ab88e1",
   "metadata": {},
   "outputs": [
    {
     "data": {
      "text/plain": [
       "tensor([[0.1079],\n",
       "        [0.4753],\n",
       "        [0.3380],\n",
       "        [0.6580],\n",
       "        [0.6995],\n",
       "        [0.8243],\n",
       "        [0.1485],\n",
       "        [0.9360],\n",
       "        [0.5733],\n",
       "        [0.1456]])"
      ]
     },
     "execution_count": 86,
     "metadata": {},
     "output_type": "execute_result"
    }
   ],
   "source": [
    "y_pred_probs = net(torch.tensor(x_test[0:10]).float()).data\n",
    "y_pred_probs"
   ]
  },
  {
   "cell_type": "markdown",
   "id": "16f8652f",
   "metadata": {},
   "source": [
    "**预测概率**\n",
    "\n",
    "torch.where()方法"
   ]
  },
  {
   "cell_type": "code",
   "execution_count": 87,
   "id": "ab5fb472",
   "metadata": {},
   "outputs": [
    {
     "data": {
      "text/plain": [
       "tensor([[0.],\n",
       "        [0.],\n",
       "        [0.],\n",
       "        [1.],\n",
       "        [1.],\n",
       "        [1.],\n",
       "        [0.],\n",
       "        [1.],\n",
       "        [1.],\n",
       "        [0.]])"
      ]
     },
     "execution_count": 87,
     "metadata": {},
     "output_type": "execute_result"
    }
   ],
   "source": [
    "y_pred = torch.where(y_pred_probs>0.5, torch.ones_like(y_pred_probs), torch.zeros_like(y_pred_probs))\n",
    "y_pred"
   ]
  },
  {
   "cell_type": "markdown",
   "id": "731917a1",
   "metadata": {},
   "source": [
    "## 保存模型"
   ]
  },
  {
   "cell_type": "markdown",
   "id": "953c551d",
   "metadata": {},
   "source": [
    "Pytorch 有两种保存模型的方法,data是通过调用pickle序列化方法实现的\n",
    "1. 只保存模型参数(checkpoint) 推荐\n",
    "2. 保存完整模型 (不推荐，第二种方法可能在切换设备和目标的时候出现各种问题)"
   ]
  },
  {
   "cell_type": "code",
   "execution_count": 89,
   "id": "af601565",
   "metadata": {},
   "outputs": [
    {
     "name": "stdout",
     "output_type": "stream",
     "text": [
      "odict_keys(['linear1.weight', 'linear1.bias', 'linear2.weight', 'linear2.bias', 'linear3.weight', 'linear3.bias'])\n"
     ]
    }
   ],
   "source": [
    "print(net.state_dict().keys())"
   ]
  },
  {
   "cell_type": "markdown",
   "id": "b110db27",
   "metadata": {},
   "source": [
    "**1. 保存模型参数**\n",
    "\n",
    "保存的内容是`net.state_dict()`\n",
    "\n",
    "装载模型的参数的方法是`load_state_dict()`"
   ]
  },
  {
   "cell_type": "code",
   "execution_count": 90,
   "id": "ed0cb642",
   "metadata": {},
   "outputs": [
    {
     "data": {
      "text/plain": [
       "tensor([[0.1079],\n",
       "        [0.4753],\n",
       "        [0.3380],\n",
       "        [0.6580],\n",
       "        [0.6995],\n",
       "        [0.8243],\n",
       "        [0.1485],\n",
       "        [0.9360],\n",
       "        [0.5733],\n",
       "        [0.1456]])"
      ]
     },
     "execution_count": 90,
     "metadata": {},
     "output_type": "execute_result"
    }
   ],
   "source": [
    "torch.save(net.state_dict(),'./data/net_parameter.pkl')\n",
    "\n",
    "net_clone = create_net()\n",
    "net_clone.load_state_dict(torch.load('./data/net_parameter.pkl'))\n",
    "\n",
    "net_clone.forward(torch.tensor(x_test[0:10]).float()).data"
   ]
  },
  {
   "cell_type": "markdown",
   "id": "48cd8c00",
   "metadata": {},
   "source": [
    "`net_clone` 和之间训练好的模型输出的内容是一样的"
   ]
  },
  {
   "cell_type": "markdown",
   "id": "3b207a80",
   "metadata": {},
   "source": [
    "# 1-3 文本数据建模流程范例"
   ]
  },
  {
   "cell_type": "markdown",
   "id": "192fd044",
   "metadata": {},
   "source": [
    "## 数据准备\n",
    "imdb是电影评论数据集合，本次的案例目标是**根据评论的文本内容预测评论的情感标签**\n",
    " \n",
    " 训练集有两万条， 测试集有5000条，其中正面评论和负面评论各占一半\n",
    " \n",
    " 文本数据预处理比较繁琐，包括：\n",
    " 1. 中文切词(本次案例不涉及)\n",
    " 2. 构建词典\n",
    " 3. 编码转换\n",
    " 4. 序列填充\n",
    " 5. 构建数据管道\n",
    " \n",
    "在torch 中预处理文本数据一般使用`torchtext` 或者自定义`Dataset`\n",
    " \n",
    "torchtext 的功能非常强大，可以构建文本分类，序列标注，问答模型，机器翻译等NLP任务的数据集"
   ]
  },
  {
   "cell_type": "markdown",
   "id": "1d1dc2ff",
   "metadata": {},
   "source": [
    "> torchtext 常见的API\n",
    "- torchtext.data.Example 用来表示一个样本，数据和标签\n",
    "- torchtext.vocab.Vocab: 词汇表，可以导入一些预训练词向量\n",
    "- torchtext.data.Datasets 数据集类， `__gititem__`返回Example实列\n",
    "- torchtext.data.Field 用来定义字段的处理方法 (文本字段，标签字段) 创建Example时的预处理，batch时的一些处理操作\n",
    "- torchtext.data.Iterator: 迭代器，用来生成batch\n",
    "- torchtext.datasets 包含了常见的数据集"
   ]
  },
  {
   "cell_type": "code",
   "execution_count": 28,
   "id": "9296ddbb",
   "metadata": {},
   "outputs": [
    {
     "name": "stderr",
     "output_type": "stream",
     "text": [
      "/home/beta/anaconda3/envs/lye/lib/python3.7/site-packages/torchtext/data/field.py:150: UserWarning: Field class will be retired soon and moved to torchtext.legacy. Please see the most recent release notes for further information.\n",
      "  warnings.warn('{} class will be retired soon and moved to torchtext.legacy. Please see the most recent release notes for further information.'.format(self.__class__.__name__), UserWarning)\n",
      "/home/beta/anaconda3/envs/lye/lib/python3.7/site-packages/torchtext/data/example.py:68: UserWarning: Example class will be retired soon and moved to torchtext.legacy. Please see the most recent release notes for further information.\n",
      "  warnings.warn('Example class will be retired soon and moved to torchtext.legacy. Please see the most recent release notes for further information.', UserWarning)\n",
      "/home/beta/anaconda3/envs/lye/lib/python3.7/site-packages/torchtext/data/example.py:78: UserWarning: Example class will be retired soon and moved to torchtext.legacy. Please see the most recent release notes for further information.\n",
      "  warnings.warn('Example class will be retired soon and moved to torchtext.legacy. Please see the most recent release notes for further information.', UserWarning)\n",
      "/home/beta/anaconda3/envs/lye/lib/python3.7/site-packages/torchtext/data/iterator.py:48: UserWarning: Iterator class will be retired soon and moved to torchtext.legacy. Please see the most recent release notes for further information.\n",
      "  warnings.warn('{} class will be retired soon and moved to torchtext.legacy. Please see the most recent release notes for further information.'.format(self.__class__.__name__), UserWarning)\n"
     ]
    }
   ],
   "source": [
    "import torch\n",
    "import string, re\n",
    "import torchtext\n",
    "\n",
    "# 仅仅考虑高频词的前10000个词\n",
    "MAX_WORDS = 10000\n",
    "MAX_LEN = 200\n",
    "BATCH_SIZE = 20\n",
    "\n",
    "# 分词方法\n",
    "# string.punctuation：找出字符串中的所有的标点（针对英文）\n",
    "tokenizer = lambda x: re.sub('[%s]' %string.punctuation,\"\",x).split(\" \")\n",
    "\n",
    "# 过滤掉低频词语\n",
    "def filterLowFreqWords(arr, vocab):\n",
    "    arr = [[x if x < MAX_WORDS else 0 for x in example] for example in arr]\n",
    "    return arr\n",
    "\n",
    "# 1.定义各个字段的处理方法\n",
    "TEXT = torchtext.data.Field(sequential=True, tokenize=tokenizer, lower=True, \n",
    "                          fix_length=MAX_LEN, postprocessing=filterLowFreqWords)\n",
    "\n",
    "LABEL = torchtext.data.Field(sequential=False, use_vocab=False)\n",
    "\n",
    "# 2.构建表格型的dataset\n",
    "ds_train, ds_valid = torchtext.data.TabularDataset.splits(\n",
    "    path='./data/imdb', train='train.tsv', test='test.tsv', format='tsv',\n",
    "    fields=[('label',LABEL), ('text',TEXT)], skip_header=False\n",
    ")\n",
    "\n",
    "# 3.构建词典\n",
    "TEXT.build_vocab(ds_train)\n",
    "\n",
    "# 4.构建数据管道迭代器\n",
    "train_iter, valid_iter = torchtext.data.Iterator.splits(\n",
    "    (ds_train, ds_valid), sort_within_batch=True, sort_key=lambda x:len(x.text),\n",
    "    batch_sizes = (BATCH_SIZE, BATCH_SIZE)\n",
    ")"
   ]
  },
  {
   "cell_type": "markdown",
   "id": "2ee66389",
   "metadata": {},
   "source": [
    "**查看example的信息**"
   ]
  },
  {
   "cell_type": "code",
   "execution_count": 94,
   "id": "e5aa7318",
   "metadata": {},
   "outputs": [
    {
     "name": "stdout",
     "output_type": "stream",
     "text": [
      "text= ['it', 'really', 'boggles', 'my', 'mind', 'when', 'someone', 'comes', 'across', 'a', 'movie', 'like', 'this', 'and', 'claims', 'it', 'to', 'be', 'one', 'of', 'the', 'worst', 'slasher', 'films', 'out', 'there', 'this', 'is', 'by', 'far', 'not', 'one', 'of', 'the', 'worst', 'out', 'there', 'still', 'not', 'a', 'good', 'movie', 'but', 'not', 'the', 'worst', 'nonetheless', 'go', 'see', 'something', 'like', 'death', 'nurse', 'or', 'blood', 'lake', 'and', 'then', 'come', 'back', 'to', 'me', 'and', 'tell', 'me', 'if', 'you', 'think', 'the', 'night', 'brings', 'charlie', 'is', 'the', 'worst', 'the', 'film', 'has', 'decent', 'camera', 'work', 'and', 'editing', 'which', 'is', 'way', 'more', 'than', 'i', 'can', 'say', 'for', 'many', 'more', 'extremely', 'obscure', 'slasher', 'filmsbr', 'br', 'the', 'film', 'doesnt', 'deliver', 'on', 'the', 'onscreen', 'deaths', 'theres', 'one', 'death', 'where', 'you', 'see', 'his', 'pruning', 'saw', 'rip', 'into', 'a', 'neck', 'but', 'all', 'other', 'deaths', 'are', 'hardly', 'interesting', 'but', 'the', 'lack', 'of', 'onscreen', 'graphic', 'violence', 'doesnt', 'mean', 'this', 'isnt', 'a', 'slasher', 'film', 'just', 'a', 'bad', 'onebr', 'br', 'the', 'film', 'was', 'obviously', 'intended', 'not', 'to', 'be', 'taken', 'too', 'seriously', 'the', 'film', 'came', 'in', 'at', 'the', 'end', 'of', 'the', 'second', 'slasher', 'cycle', 'so', 'it', 'certainly', 'was', 'a', 'reflection', 'on', 'traditional', 'slasher', 'elements', 'done', 'in', 'a', 'tongue', 'in', 'cheek', 'way', 'for', 'example', 'after', 'a', 'kill', 'charlie', 'goes', 'to', 'the', 'towns', 'welcome', 'sign', 'and', 'marks', 'the', 'population', 'down', 'one', 'less', 'this', 'is', 'something', 'that', 'can', 'only', 'get', 'a', 'laughbr', 'br', 'if', 'youre', 'into', 'slasher', 'films', 'definitely', 'give', 'this', 'film', 'a', 'watch', 'it', 'is', 'slightly', 'different', 'than', 'your', 'usual', 'slasher', 'film', 'with', 'possibility', 'of', 'two', 'killers', 'but', 'not', 'by', 'much', 'the', 'comedy', 'of', 'the', 'movie', 'is', 'pretty', 'much', 'telling', 'the', 'audience', 'to', 'relax', 'and', 'not', 'take', 'the', 'movie', 'so', 'god', 'darn', 'serious', 'you', 'may', 'forget', 'the', 'movie', 'you', 'may', 'remember', 'it', 'ill', 'remember', 'it', 'because', 'i', 'love', 'the', 'name']\n",
      "label= 0\n"
     ]
    }
   ],
   "source": [
    "print(\"text=\",ds_train[0].text)\n",
    "print(\"label=\",ds_train[0].label)"
   ]
  },
  {
   "cell_type": "markdown",
   "id": "64d2250c",
   "metadata": {},
   "source": [
    "**查看词典信息**"
   ]
  },
  {
   "cell_type": "code",
   "execution_count": 4,
   "id": "c2b678c8",
   "metadata": {},
   "outputs": [
    {
     "name": "stdout",
     "output_type": "stream",
     "text": [
      "Text.vocab =  108197\n",
      "<unk>\n",
      "<pad>\n",
      "0\n",
      "1\n",
      "Freq(<unk>)= 0\n",
      "Freq(a)= 129453\n",
      "Freq(good)=  11457\n"
     ]
    }
   ],
   "source": [
    "print(\"Text.vocab = \",len(TEXT.vocab))\n",
    "# itos : index to string 从索引到字符的映射\n",
    "print(TEXT.vocab.itos[0])\n",
    "print(TEXT.vocab.itos[1])\n",
    "\n",
    "# stoi : string to index 从字符到索引的映射\n",
    "print(TEXT.vocab.stoi['<unk>']) # unknow 未知情况\n",
    "print(TEXT.vocab.stoi['<pad>']) # padding\n",
    "\n",
    "print(\"Freq(<unk>)=\",TEXT.vocab.freqs['<unk>'])\n",
    "print(\"Freq(a)=\",TEXT.vocab.freqs['a'])\n",
    "print(\"Freq(good)= \",TEXT.vocab.freqs['good'])\n"
   ]
  },
  {
   "cell_type": "code",
   "execution_count": 5,
   "id": "0dc0a5f0",
   "metadata": {},
   "outputs": [
    {
     "name": "stdout",
     "output_type": "stream",
     "text": [
      "tensor([[1191,   10,   38,  ..., 1675,   64,   10],\n",
      "        [ 799,   40,   25,  ...,    0,   10,  151],\n",
      "        [   2,   95,  128,  ...,  393,  417,  119],\n",
      "        ...,\n",
      "        [ 632,   70,   46,  ...,    1,    1,    1],\n",
      "        [ 220,  346,  178,  ...,    1,    1,    1],\n",
      "        [  65,    4,   49,  ...,    1,    1,    1]])\n",
      "features.shape= torch.Size([200, 20])\n",
      "tensor([1, 0, 0, 1, 0, 0, 0, 0, 0, 1, 0, 0, 0, 1, 0, 1, 0, 0, 1, 0])\n"
     ]
    },
    {
     "name": "stderr",
     "output_type": "stream",
     "text": [
      "/home/beta/anaconda3/envs/lye/lib/python3.7/site-packages/torchtext/data/batch.py:23: UserWarning: Batch class will be retired soon and moved to torchtext.legacy. Please see the most recent release notes for further information.\n",
      "  warnings.warn('{} class will be retired soon and moved to torchtext.legacy. Please see the most recent release notes for further information.'.format(self.__class__.__name__), UserWarning)\n"
     ]
    }
   ],
   "source": [
    "# 查看数据管道信息\n",
    "# 注意：text第0维度是句子长度  text.shape = (MAX_LEN, BATCH_SIZE)\n",
    "# 也就是句子是竖着放的\n",
    "for batch in train_iter:\n",
    "    features = batch.text\n",
    "    labels = batch.label\n",
    "    \n",
    "    print(features)\n",
    "    print(\"features.shape=\", features.shape)\n",
    "    print(labels)\n",
    "    break"
   ]
  },
  {
   "cell_type": "code",
   "execution_count": 2,
   "id": "09abf7bf",
   "metadata": {},
   "outputs": [],
   "source": [
    "# 将数据管道组织成torch.utils.data.DataLoader 相似的features, label输出形式\n",
    "\n",
    "class DataLoader:\n",
    "    def __init__(self, data_iter):\n",
    "        self.data_iter = data_iter\n",
    "        self.length= len(data_iter)\n",
    "        \n",
    "    def __len__(self):\n",
    "        return self.length\n",
    "    \n",
    "    def __iter__(self):\n",
    "        # 注意：此处调整features为 batch first，并调整label的shape和dtype\n",
    "        for batch in self.data_iter:\n",
    "            yield(torch.transpose(batch.text, 0, 1), torch.unsqueeze(batch.label.float(), dim =1))"
   ]
  },
  {
   "cell_type": "markdown",
   "id": "9b6453ba",
   "metadata": {},
   "source": [
    "`yield()`函数的使用方法："
   ]
  },
  {
   "cell_type": "code",
   "execution_count": 3,
   "id": "be740efd",
   "metadata": {},
   "outputs": [],
   "source": [
    "dl_train = DataLoader(train_iter)\n",
    "dl_valid = DataLoader(valid_iter)"
   ]
  },
  {
   "cell_type": "markdown",
   "id": "a88d231e",
   "metadata": {},
   "source": [
    "## 定义模型"
   ]
  },
  {
   "cell_type": "markdown",
   "id": "bffcaf70",
   "metadata": {},
   "source": [
    "使用pytorch通常有三种方式构建模型：\n",
    "1. 使用nn.Sequentical 按照层顺序构建模型\n",
    "2. 继承nn.Module 基类构建自定义模型\n",
    "3. 继承nn.Module基类构建模型并使用应用模型容器nn.Sequential, nn.ModuleList, nn.ModuleDict进行封装\n",
    "\n",
    "这里使用第三种方式构建"
   ]
  },
  {
   "cell_type": "code",
   "execution_count": 4,
   "id": "6bb1b15d",
   "metadata": {},
   "outputs": [
    {
     "data": {
      "text/plain": [
       "10692474067686504456"
      ]
     },
     "execution_count": 4,
     "metadata": {},
     "output_type": "execute_result"
    }
   ],
   "source": [
    "import torch\n",
    "from torch import nn\n",
    "from torchkeras import LightModel, summary\n",
    "\n",
    "torch.random.seed()"
   ]
  },
  {
   "cell_type": "code",
   "execution_count": 5,
   "id": "0271e85e",
   "metadata": {},
   "outputs": [],
   "source": [
    "class Net(nn.Module):\n",
    "    def __init__(self):\n",
    "        super(Net, self).__init__()\n",
    "        \n",
    "        # 设置padding_idx 参数后，训练过程中将填充的token始终赋值为0向量\n",
    "        self.embedding = nn.Embedding(num_embeddings= MAX_WORDS, embedding_dim=3, padding_idx=1)\n",
    "        # CNN\n",
    "        self.conv = nn.Sequential()\n",
    "        self.conv.add_module(\"conv_1\", nn.Conv1d(in_channels=3, out_channels=16, kernel_size=5))\n",
    "        self.conv.add_module(\"pool_1\",nn.MaxPool1d(kernel_size=2))\n",
    "        self.conv.add_module(\"relu_1\",nn.ReLU())\n",
    "        self.conv.add_module(\"conv_2\", nn.Conv1d(in_channels=16, out_channels=128, kernel_size=2))\n",
    "        self.conv.add_module(\"pool_2\",nn.MaxPool1d(kernel_size=2))\n",
    "        self.conv.add_module(\"relu_2\", nn.ReLU())\n",
    "        \n",
    "        self.dense =nn.Sequential()\n",
    "        self.dense.add_module(\"flatten\", nn.Flatten())\n",
    "        self.dense.add_module(\"linear\",nn.Linear(6144, 1))\n",
    "        self.dense.add_module(\"sigmoid\", nn.Sigmoid())\n",
    "        \n",
    "    def forward(self, x):\n",
    "        x = self.embedding(x).transpose(1,2)\n",
    "        x = self.conv(x)\n",
    "        y = self.dense(x)\n",
    "        return y "
   ]
  },
  {
   "cell_type": "code",
   "execution_count": 9,
   "id": "185c9fd3",
   "metadata": {},
   "outputs": [
    {
     "name": "stdout",
     "output_type": "stream",
     "text": [
      "Net(\n",
      "  (embedding): Embedding(10000, 3, padding_idx=1)\n",
      "  (conv): Sequential(\n",
      "    (conv_1): Conv1d(3, 16, kernel_size=(5,), stride=(1,))\n",
      "    (pool_1): MaxPool1d(kernel_size=2, stride=2, padding=0, dilation=1, ceil_mode=False)\n",
      "    (relu_1): ReLU()\n",
      "    (conv_2): Conv1d(16, 128, kernel_size=(2,), stride=(1,))\n",
      "    (pool_2): MaxPool1d(kernel_size=2, stride=2, padding=0, dilation=1, ceil_mode=False)\n",
      "    (relu_2): ReLU()\n",
      "  )\n",
      "  (dense): Sequential(\n",
      "    (flatten): Flatten(start_dim=1, end_dim=-1)\n",
      "    (linear): Linear(in_features=6144, out_features=1, bias=True)\n",
      "    (sigmoid): Sigmoid()\n",
      "  )\n",
      ")\n",
      "----------------------------------------------------------------\n",
      "        Layer (type)               Output Shape         Param #\n",
      "================================================================\n",
      "         Embedding-1               [-1, 200, 3]          30,000\n",
      "            Conv1d-2              [-1, 16, 196]             256\n",
      "         MaxPool1d-3               [-1, 16, 98]               0\n",
      "              ReLU-4               [-1, 16, 98]               0\n",
      "            Conv1d-5              [-1, 128, 97]           4,224\n",
      "         MaxPool1d-6              [-1, 128, 48]               0\n",
      "              ReLU-7              [-1, 128, 48]               0\n",
      "           Flatten-8                 [-1, 6144]               0\n",
      "            Linear-9                    [-1, 1]           6,145\n",
      "          Sigmoid-10                    [-1, 1]               0\n",
      "================================================================\n",
      "Total params: 40,625\n",
      "Trainable params: 40,625\n",
      "Non-trainable params: 0\n",
      "----------------------------------------------------------------\n",
      "Input size (MB): 0.000763\n",
      "Forward/backward pass size (MB): 0.287796\n",
      "Params size (MB): 0.154972\n",
      "Estimated Total Size (MB): 0.443531\n",
      "----------------------------------------------------------------\n"
     ]
    }
   ],
   "source": [
    "net = Net()\n",
    "print(net)\n",
    "summary(net, input_shape=(200,), input_dtype=torch.LongTensor)"
   ]
  },
  {
   "cell_type": "markdown",
   "id": "ee2a0437",
   "metadata": {},
   "source": [
    "## 训练模型\n",
    "\n",
    "训练pytorch 通常需要用户自定义训练循环\n",
    "1. 脚本形式\n",
    "2. 函数形式\n",
    "3. 类形式\n",
    "\n",
    "此处使用类形式\n",
    "\n",
    "我们使用Pytorch-Lightning 定义了一个高阶模型接口LightModel, 封装在torchkeras中，可以非常方便地训练模型\n"
   ]
  },
  {
   "cell_type": "code",
   "execution_count": 6,
   "id": "c1271828",
   "metadata": {},
   "outputs": [],
   "source": [
    "import pytorch_lightning as pl \n",
    "import torchmetrics\n",
    "from torchkeras import LightModel \n",
    "\n",
    "metric = torchmetrics.Accuracy()\n",
    "\n",
    "class Model(LightModel):\n",
    "    \n",
    "    #loss,and optional metrics\n",
    "    def shared_step(self,batch)->dict:\n",
    "        x, y = batch\n",
    "        prediction = self(x)\n",
    "        loss = nn.BCELoss()(prediction,y)\n",
    "        preds = torch.where(prediction>0.5,torch.ones_like(prediction),torch.zeros_like(prediction))\n",
    "        # acc = pl.metrics.functional.accuracy(preds, y)\n",
    "        # 注意在pytorch_lightning 1.3.0以后的版本中没有pl.metrics.functional\n",
    "        # 注意踩坑，functional.accuracy(preds, target) 其中target必须为Integer tensor\n",
    "        acc = torchmetrics.functional.accuracy(preds, y.int())\n",
    "        dic = {\"loss\":loss,\"accuracy\":acc} \n",
    "        return dic\n",
    "    \n",
    "    #optimizer,and optional lr_scheduler\n",
    "    def configure_optimizers(self):\n",
    "        optimizer= torch.optim.Adagrad(self.parameters(),lr = 0.02)\n",
    "        return optimizer"
   ]
  },
  {
   "cell_type": "code",
   "execution_count": 7,
   "id": "a842c15d",
   "metadata": {},
   "outputs": [
    {
     "name": "stderr",
     "output_type": "stream",
     "text": [
      "Global seed set to 1234\n",
      "GPU available: True, used: False\n",
      "TPU available: False, using: 0 TPU cores\n",
      "IPU available: False, using: 0 IPUs\n",
      "/home/beta/anaconda3/envs/lye/lib/python3.7/site-packages/pytorch_lightning/trainer/trainer.py:1293: UserWarning: GPU available but not used. Set the gpus flag in your trainer `Trainer(gpus=1)` or script `--gpus=1`.\n",
      "  \"GPU available but not used. Set the gpus flag in your trainer\"\n",
      "\n",
      "  | Name | Type | Params\n",
      "------------------------------\n",
      "0 | net  | Net  | 40.6 K\n",
      "------------------------------\n",
      "40.6 K    Trainable params\n",
      "0         Non-trainable params\n",
      "40.6 K    Total params\n",
      "0.163     Total estimated model params size (MB)\n"
     ]
    },
    {
     "data": {
      "application/vnd.jupyter.widget-view+json": {
       "model_id": "a3843b8cd87946418c6858e8d6e64846",
       "version_major": 2,
       "version_minor": 0
      },
      "text/plain": [
       "Validation sanity check: 0it [00:00, ?it/s]"
      ]
     },
     "metadata": {},
     "output_type": "display_data"
    },
    {
     "name": "stderr",
     "output_type": "stream",
     "text": [
      "/home/beta/anaconda3/envs/lye/lib/python3.7/site-packages/torchtext/data/batch.py:23: UserWarning: Batch class will be retired soon and moved to torchtext.legacy. Please see the most recent release notes for further information.\n",
      "  warnings.warn('{} class will be retired soon and moved to torchtext.legacy. Please see the most recent release notes for further information.'.format(self.__class__.__name__), UserWarning)\n",
      "Global seed set to 1234\n"
     ]
    },
    {
     "name": "stdout",
     "output_type": "stream",
     "text": [
      "\n",
      "================================================================================2021-08-10 15:10:39\n",
      "epoch =  0\n",
      "{'val_loss': 0.6898235082626343, 'val_accuracy': 0.6499999761581421}\n"
     ]
    },
    {
     "data": {
      "application/vnd.jupyter.widget-view+json": {
       "model_id": "a526a403474d43749135ef26acd5fd6e",
       "version_major": 2,
       "version_minor": 0
      },
      "text/plain": [
       "Training: -1it [00:00, ?it/s]"
      ]
     },
     "metadata": {},
     "output_type": "display_data"
    },
    {
     "data": {
      "application/vnd.jupyter.widget-view+json": {
       "model_id": "81130fdf27ae4b3f8f79e2b5e9fffcf9",
       "version_major": 2,
       "version_minor": 0
      },
      "text/plain": [
       "Validating: 0it [00:00, ?it/s]"
      ]
     },
     "metadata": {},
     "output_type": "display_data"
    },
    {
     "name": "stdout",
     "output_type": "stream",
     "text": [
      "\n",
      "================================================================================2021-08-10 15:11:00\n",
      "epoch =  0\n",
      "{'val_loss': 0.6611241102218628, 'val_accuracy': 0.5982000827789307}\n",
      "{'loss': 0.706566333770752, 'accuracy': 0.5345497727394104}\n"
     ]
    },
    {
     "data": {
      "application/vnd.jupyter.widget-view+json": {
       "model_id": "febe2098a39d45df961afa50fdf5e7d9",
       "version_major": 2,
       "version_minor": 0
      },
      "text/plain": [
       "Validating: 0it [00:00, ?it/s]"
      ]
     },
     "metadata": {},
     "output_type": "display_data"
    },
    {
     "name": "stdout",
     "output_type": "stream",
     "text": [
      "\n",
      "================================================================================2021-08-10 15:11:18\n",
      "epoch =  1\n",
      "{'val_loss': 0.5857259631156921, 'val_accuracy': 0.682200014591217}\n",
      "{'loss': 0.6148871779441833, 'accuracy': 0.66100013256073}\n"
     ]
    },
    {
     "data": {
      "application/vnd.jupyter.widget-view+json": {
       "model_id": "ce76580ab4fe4958976daf8923fc6c12",
       "version_major": 2,
       "version_minor": 0
      },
      "text/plain": [
       "Validating: 0it [00:00, ?it/s]"
      ]
     },
     "metadata": {},
     "output_type": "display_data"
    },
    {
     "name": "stdout",
     "output_type": "stream",
     "text": [
      "\n",
      "================================================================================2021-08-10 15:11:37\n",
      "epoch =  2\n",
      "{'val_loss': 0.5443570613861084, 'val_accuracy': 0.7176001071929932}\n",
      "{'loss': 0.5358057022094727, 'accuracy': 0.731349527835846}\n"
     ]
    },
    {
     "data": {
      "application/vnd.jupyter.widget-view+json": {
       "model_id": "20aea8594b2e4da788dca8d3e9e4c331",
       "version_major": 2,
       "version_minor": 0
      },
      "text/plain": [
       "Validating: 0it [00:00, ?it/s]"
      ]
     },
     "metadata": {},
     "output_type": "display_data"
    },
    {
     "name": "stdout",
     "output_type": "stream",
     "text": [
      "\n",
      "================================================================================2021-08-10 15:11:55\n",
      "epoch =  3\n",
      "{'val_loss': 0.5213476419448853, 'val_accuracy': 0.7381999492645264}\n",
      "{'loss': 0.4817662537097931, 'accuracy': 0.7700999975204468}\n"
     ]
    },
    {
     "data": {
      "application/vnd.jupyter.widget-view+json": {
       "model_id": "916acea0db914e7cac8fe4db28f3319a",
       "version_major": 2,
       "version_minor": 0
      },
      "text/plain": [
       "Validating: 0it [00:00, ?it/s]"
      ]
     },
     "metadata": {},
     "output_type": "display_data"
    },
    {
     "name": "stdout",
     "output_type": "stream",
     "text": [
      "\n",
      "================================================================================2021-08-10 15:12:14\n",
      "epoch =  4\n",
      "{'val_loss': 0.4999947249889374, 'val_accuracy': 0.753200113773346}\n",
      "{'loss': 0.4415627717971802, 'accuracy': 0.7947994470596313}\n"
     ]
    },
    {
     "data": {
      "application/vnd.jupyter.widget-view+json": {
       "model_id": "e81309651fb14741be097126d71b4488",
       "version_major": 2,
       "version_minor": 0
      },
      "text/plain": [
       "Validating: 0it [00:00, ?it/s]"
      ]
     },
     "metadata": {},
     "output_type": "display_data"
    },
    {
     "name": "stdout",
     "output_type": "stream",
     "text": [
      "\n",
      "================================================================================2021-08-10 15:12:31\n",
      "epoch =  5\n",
      "{'val_loss': 0.4861709177494049, 'val_accuracy': 0.7672001123428345}\n",
      "{'loss': 0.4092196226119995, 'accuracy': 0.8137493133544922}\n"
     ]
    },
    {
     "data": {
      "application/vnd.jupyter.widget-view+json": {
       "model_id": "76e2399675b5449a88121fa7a34501dc",
       "version_major": 2,
       "version_minor": 0
      },
      "text/plain": [
       "Validating: 0it [00:00, ?it/s]"
      ]
     },
     "metadata": {},
     "output_type": "display_data"
    },
    {
     "name": "stdout",
     "output_type": "stream",
     "text": [
      "\n",
      "================================================================================2021-08-10 15:12:49\n",
      "epoch =  6\n",
      "{'val_loss': 0.4830598831176758, 'val_accuracy': 0.7738001346588135}\n",
      "{'loss': 0.38276615738868713, 'accuracy': 0.8275998830795288}\n"
     ]
    },
    {
     "data": {
      "application/vnd.jupyter.widget-view+json": {
       "model_id": "60f63b50854c4f4ba1e0430a93e7ad35",
       "version_major": 2,
       "version_minor": 0
      },
      "text/plain": [
       "Validating: 0it [00:00, ?it/s]"
      ]
     },
     "metadata": {},
     "output_type": "display_data"
    },
    {
     "name": "stdout",
     "output_type": "stream",
     "text": [
      "\n",
      "================================================================================2021-08-10 15:13:07\n",
      "epoch =  7\n",
      "{'val_loss': 0.4823921024799347, 'val_accuracy': 0.7732001543045044}\n",
      "{'loss': 0.35949093103408813, 'accuracy': 0.8406496047973633}\n"
     ]
    },
    {
     "data": {
      "application/vnd.jupyter.widget-view+json": {
       "model_id": "fcb5d365ea3643c4bc910b7f62ed6723",
       "version_major": 2,
       "version_minor": 0
      },
      "text/plain": [
       "Validating: 0it [00:00, ?it/s]"
      ]
     },
     "metadata": {},
     "output_type": "display_data"
    },
    {
     "name": "stdout",
     "output_type": "stream",
     "text": [
      "\n",
      "================================================================================2021-08-10 15:13:25\n",
      "epoch =  8\n",
      "{'val_loss': 0.4803939759731293, 'val_accuracy': 0.7783999443054199}\n",
      "{'loss': 0.3396882712841034, 'accuracy': 0.8526992201805115}\n"
     ]
    },
    {
     "data": {
      "application/vnd.jupyter.widget-view+json": {
       "model_id": "e912a070186045499fdf49a1db2046a4",
       "version_major": 2,
       "version_minor": 0
      },
      "text/plain": [
       "Validating: 0it [00:00, ?it/s]"
      ]
     },
     "metadata": {},
     "output_type": "display_data"
    },
    {
     "name": "stdout",
     "output_type": "stream",
     "text": [
      "\n",
      "================================================================================2021-08-10 15:13:43\n",
      "epoch =  9\n",
      "{'val_loss': 0.48688411712646484, 'val_accuracy': 0.7766002416610718}\n",
      "{'loss': 0.3212050497531891, 'accuracy': 0.862700343132019}\n"
     ]
    },
    {
     "data": {
      "application/vnd.jupyter.widget-view+json": {
       "model_id": "26f33ba1b46341d0968255634e657745",
       "version_major": 2,
       "version_minor": 0
      },
      "text/plain": [
       "Validating: 0it [00:00, ?it/s]"
      ]
     },
     "metadata": {},
     "output_type": "display_data"
    },
    {
     "name": "stdout",
     "output_type": "stream",
     "text": [
      "\n",
      "================================================================================2021-08-10 15:14:01\n",
      "epoch =  10\n",
      "{'val_loss': 0.4843918979167938, 'val_accuracy': 0.7786000967025757}\n",
      "{'loss': 0.304389089345932, 'accuracy': 0.871350884437561}\n"
     ]
    },
    {
     "data": {
      "application/vnd.jupyter.widget-view+json": {
       "model_id": "5019cb5aebab4db9b199f9fb646d69e8",
       "version_major": 2,
       "version_minor": 0
      },
      "text/plain": [
       "Validating: 0it [00:00, ?it/s]"
      ]
     },
     "metadata": {},
     "output_type": "display_data"
    },
    {
     "name": "stdout",
     "output_type": "stream",
     "text": [
      "\n",
      "================================================================================2021-08-10 15:14:19\n",
      "epoch =  11\n",
      "{'val_loss': 0.4884170591831207, 'val_accuracy': 0.7807999849319458}\n",
      "{'loss': 0.2900279462337494, 'accuracy': 0.8807002902030945}\n"
     ]
    },
    {
     "data": {
      "application/vnd.jupyter.widget-view+json": {
       "model_id": "1127e60be9f84aca81a50ce503fdf727",
       "version_major": 2,
       "version_minor": 0
      },
      "text/plain": [
       "Validating: 0it [00:00, ?it/s]"
      ]
     },
     "metadata": {},
     "output_type": "display_data"
    },
    {
     "name": "stdout",
     "output_type": "stream",
     "text": [
      "\n",
      "================================================================================2021-08-10 15:14:36\n",
      "epoch =  12\n",
      "{'val_loss': 0.49206411838531494, 'val_accuracy': 0.7826001048088074}\n",
      "{'loss': 0.2754042446613312, 'accuracy': 0.8884516358375549}\n"
     ]
    },
    {
     "data": {
      "application/vnd.jupyter.widget-view+json": {
       "model_id": "722d260f61f94a42bb0a7bb9b9cde9eb",
       "version_major": 2,
       "version_minor": 0
      },
      "text/plain": [
       "Validating: 0it [00:00, ?it/s]"
      ]
     },
     "metadata": {},
     "output_type": "display_data"
    },
    {
     "name": "stdout",
     "output_type": "stream",
     "text": [
      "\n",
      "================================================================================2021-08-10 15:14:54\n",
      "epoch =  13\n",
      "{'val_loss': 0.5076068639755249, 'val_accuracy': 0.7792000770568848}\n",
      "{'loss': 0.26256540417671204, 'accuracy': 0.8963021039962769}\n"
     ]
    },
    {
     "data": {
      "application/vnd.jupyter.widget-view+json": {
       "model_id": "d24f9a4b29cc4f24a151f4212a8643c2",
       "version_major": 2,
       "version_minor": 0
      },
      "text/plain": [
       "Validating: 0it [00:00, ?it/s]"
      ]
     },
     "metadata": {},
     "output_type": "display_data"
    },
    {
     "name": "stdout",
     "output_type": "stream",
     "text": [
      "\n",
      "================================================================================2021-08-10 15:15:12\n",
      "epoch =  14\n",
      "{'val_loss': 0.5021297931671143, 'val_accuracy': 0.7818001508712769}\n",
      "{'loss': 0.25033554434776306, 'accuracy': 0.9023525714874268}\n"
     ]
    },
    {
     "data": {
      "application/vnd.jupyter.widget-view+json": {
       "model_id": "969820635fbf41a59742377544884e76",
       "version_major": 2,
       "version_minor": 0
      },
      "text/plain": [
       "Validating: 0it [00:00, ?it/s]"
      ]
     },
     "metadata": {},
     "output_type": "display_data"
    },
    {
     "name": "stdout",
     "output_type": "stream",
     "text": [
      "\n",
      "================================================================================2021-08-10 15:15:29\n",
      "epoch =  15\n",
      "{'val_loss': 0.5054672360420227, 'val_accuracy': 0.780200183391571}\n",
      "{'loss': 0.23832754790782928, 'accuracy': 0.9092527031898499}\n"
     ]
    },
    {
     "data": {
      "application/vnd.jupyter.widget-view+json": {
       "model_id": "5bd0af53cb1444f8844ea96aee1a787c",
       "version_major": 2,
       "version_minor": 0
      },
      "text/plain": [
       "Validating: 0it [00:00, ?it/s]"
      ]
     },
     "metadata": {},
     "output_type": "display_data"
    },
    {
     "name": "stdout",
     "output_type": "stream",
     "text": [
      "\n",
      "================================================================================2021-08-10 15:15:47\n",
      "epoch =  16\n",
      "{'val_loss': 0.5242592692375183, 'val_accuracy': 0.7796002626419067}\n",
      "{'loss': 0.2274414598941803, 'accuracy': 0.9156527519226074}\n"
     ]
    },
    {
     "data": {
      "application/vnd.jupyter.widget-view+json": {
       "model_id": "c8acf11a325d4371b03528b5ae0a832d",
       "version_major": 2,
       "version_minor": 0
      },
      "text/plain": [
       "Validating: 0it [00:00, ?it/s]"
      ]
     },
     "metadata": {},
     "output_type": "display_data"
    },
    {
     "name": "stdout",
     "output_type": "stream",
     "text": [
      "\n",
      "================================================================================2021-08-10 15:16:06\n",
      "epoch =  17\n",
      "{'val_loss': 0.5232058763504028, 'val_accuracy': 0.7806001305580139}\n",
      "{'loss': 0.21675363183021545, 'accuracy': 0.9196025729179382}\n"
     ]
    },
    {
     "data": {
      "application/vnd.jupyter.widget-view+json": {
       "model_id": "c71aa3d6b55e45bd97de80f52ab97107",
       "version_major": 2,
       "version_minor": 0
      },
      "text/plain": [
       "Validating: 0it [00:00, ?it/s]"
      ]
     },
     "metadata": {},
     "output_type": "display_data"
    },
    {
     "name": "stdout",
     "output_type": "stream",
     "text": [
      "\n",
      "================================================================================2021-08-10 15:16:27\n",
      "epoch =  18\n",
      "{'val_loss': 0.5277711749076843, 'val_accuracy': 0.7798001766204834}\n",
      "{'loss': 0.20766092836856842, 'accuracy': 0.9240033626556396}\n"
     ]
    },
    {
     "data": {
      "application/vnd.jupyter.widget-view+json": {
       "model_id": "4ce6ba4e4ad34f22b90cd057b50ef017",
       "version_major": 2,
       "version_minor": 0
      },
      "text/plain": [
       "Validating: 0it [00:00, ?it/s]"
      ]
     },
     "metadata": {},
     "output_type": "display_data"
    },
    {
     "name": "stdout",
     "output_type": "stream",
     "text": [
      "\n",
      "================================================================================2021-08-10 15:16:45\n",
      "epoch =  19\n",
      "{'val_loss': 0.5362192988395691, 'val_accuracy': 0.7812001705169678}\n",
      "{'loss': 0.19805006682872772, 'accuracy': 0.9288038611412048}\n"
     ]
    }
   ],
   "source": [
    "pl.seed_everything(1234)\n",
    "net = Net()\n",
    "model = Model(net)\n",
    "\n",
    "ckpt_cb = pl.callbacks.ModelCheckpoint(monitor='val_loss')\n",
    "\n",
    "# set gpus=0 will use cpu，\n",
    "# set gpus=1 will use 1 gpu\n",
    "# set gpus=2 will use 2gpus \n",
    "# set gpus = -1 will use all gpus \n",
    "# you can also set gpus = [0,1] to use the  given gpus\n",
    "# you can even set tpu_cores=2 to use two tpus \n",
    "\n",
    "trainer = pl.Trainer(max_epochs=20,gpus = 0, callbacks=[ckpt_cb]) \n",
    "trainer.fit(model,dl_train,dl_valid)"
   ]
  },
  {
   "cell_type": "markdown",
   "id": "9b7552e4",
   "metadata": {},
   "source": [
    "## 评估模型"
   ]
  },
  {
   "cell_type": "code",
   "execution_count": 11,
   "id": "a47d3c0a",
   "metadata": {},
   "outputs": [
    {
     "data": {
      "text/html": [
       "<div>\n",
       "<style scoped>\n",
       "    .dataframe tbody tr th:only-of-type {\n",
       "        vertical-align: middle;\n",
       "    }\n",
       "\n",
       "    .dataframe tbody tr th {\n",
       "        vertical-align: top;\n",
       "    }\n",
       "\n",
       "    .dataframe thead th {\n",
       "        text-align: right;\n",
       "    }\n",
       "</style>\n",
       "<table border=\"1\" class=\"dataframe\">\n",
       "  <thead>\n",
       "    <tr style=\"text-align: right;\">\n",
       "      <th></th>\n",
       "      <th>val_loss</th>\n",
       "      <th>val_accuracy</th>\n",
       "      <th>loss</th>\n",
       "      <th>accuracy</th>\n",
       "      <th>epoch</th>\n",
       "    </tr>\n",
       "  </thead>\n",
       "  <tbody>\n",
       "    <tr>\n",
       "      <th>0</th>\n",
       "      <td>0.661124</td>\n",
       "      <td>0.5982</td>\n",
       "      <td>0.706566</td>\n",
       "      <td>0.534550</td>\n",
       "      <td>0</td>\n",
       "    </tr>\n",
       "    <tr>\n",
       "      <th>1</th>\n",
       "      <td>0.585726</td>\n",
       "      <td>0.6822</td>\n",
       "      <td>0.614887</td>\n",
       "      <td>0.661000</td>\n",
       "      <td>1</td>\n",
       "    </tr>\n",
       "    <tr>\n",
       "      <th>2</th>\n",
       "      <td>0.544357</td>\n",
       "      <td>0.7176</td>\n",
       "      <td>0.535806</td>\n",
       "      <td>0.731350</td>\n",
       "      <td>2</td>\n",
       "    </tr>\n",
       "    <tr>\n",
       "      <th>3</th>\n",
       "      <td>0.521348</td>\n",
       "      <td>0.7382</td>\n",
       "      <td>0.481766</td>\n",
       "      <td>0.770100</td>\n",
       "      <td>3</td>\n",
       "    </tr>\n",
       "    <tr>\n",
       "      <th>4</th>\n",
       "      <td>0.499995</td>\n",
       "      <td>0.7532</td>\n",
       "      <td>0.441563</td>\n",
       "      <td>0.794799</td>\n",
       "      <td>4</td>\n",
       "    </tr>\n",
       "    <tr>\n",
       "      <th>5</th>\n",
       "      <td>0.486171</td>\n",
       "      <td>0.7672</td>\n",
       "      <td>0.409220</td>\n",
       "      <td>0.813749</td>\n",
       "      <td>5</td>\n",
       "    </tr>\n",
       "    <tr>\n",
       "      <th>6</th>\n",
       "      <td>0.483060</td>\n",
       "      <td>0.7738</td>\n",
       "      <td>0.382766</td>\n",
       "      <td>0.827600</td>\n",
       "      <td>6</td>\n",
       "    </tr>\n",
       "    <tr>\n",
       "      <th>7</th>\n",
       "      <td>0.482392</td>\n",
       "      <td>0.7732</td>\n",
       "      <td>0.359491</td>\n",
       "      <td>0.840650</td>\n",
       "      <td>7</td>\n",
       "    </tr>\n",
       "    <tr>\n",
       "      <th>8</th>\n",
       "      <td>0.480394</td>\n",
       "      <td>0.7784</td>\n",
       "      <td>0.339688</td>\n",
       "      <td>0.852699</td>\n",
       "      <td>8</td>\n",
       "    </tr>\n",
       "    <tr>\n",
       "      <th>9</th>\n",
       "      <td>0.486884</td>\n",
       "      <td>0.7766</td>\n",
       "      <td>0.321205</td>\n",
       "      <td>0.862700</td>\n",
       "      <td>9</td>\n",
       "    </tr>\n",
       "    <tr>\n",
       "      <th>10</th>\n",
       "      <td>0.484392</td>\n",
       "      <td>0.7786</td>\n",
       "      <td>0.304389</td>\n",
       "      <td>0.871351</td>\n",
       "      <td>10</td>\n",
       "    </tr>\n",
       "    <tr>\n",
       "      <th>11</th>\n",
       "      <td>0.488417</td>\n",
       "      <td>0.7808</td>\n",
       "      <td>0.290028</td>\n",
       "      <td>0.880700</td>\n",
       "      <td>11</td>\n",
       "    </tr>\n",
       "    <tr>\n",
       "      <th>12</th>\n",
       "      <td>0.492064</td>\n",
       "      <td>0.7826</td>\n",
       "      <td>0.275404</td>\n",
       "      <td>0.888452</td>\n",
       "      <td>12</td>\n",
       "    </tr>\n",
       "    <tr>\n",
       "      <th>13</th>\n",
       "      <td>0.507607</td>\n",
       "      <td>0.7792</td>\n",
       "      <td>0.262565</td>\n",
       "      <td>0.896302</td>\n",
       "      <td>13</td>\n",
       "    </tr>\n",
       "    <tr>\n",
       "      <th>14</th>\n",
       "      <td>0.502130</td>\n",
       "      <td>0.7818</td>\n",
       "      <td>0.250336</td>\n",
       "      <td>0.902353</td>\n",
       "      <td>14</td>\n",
       "    </tr>\n",
       "    <tr>\n",
       "      <th>15</th>\n",
       "      <td>0.505467</td>\n",
       "      <td>0.7802</td>\n",
       "      <td>0.238328</td>\n",
       "      <td>0.909253</td>\n",
       "      <td>15</td>\n",
       "    </tr>\n",
       "    <tr>\n",
       "      <th>16</th>\n",
       "      <td>0.524259</td>\n",
       "      <td>0.7796</td>\n",
       "      <td>0.227441</td>\n",
       "      <td>0.915653</td>\n",
       "      <td>16</td>\n",
       "    </tr>\n",
       "    <tr>\n",
       "      <th>17</th>\n",
       "      <td>0.523206</td>\n",
       "      <td>0.7806</td>\n",
       "      <td>0.216754</td>\n",
       "      <td>0.919603</td>\n",
       "      <td>17</td>\n",
       "    </tr>\n",
       "    <tr>\n",
       "      <th>18</th>\n",
       "      <td>0.527771</td>\n",
       "      <td>0.7798</td>\n",
       "      <td>0.207661</td>\n",
       "      <td>0.924003</td>\n",
       "      <td>18</td>\n",
       "    </tr>\n",
       "    <tr>\n",
       "      <th>19</th>\n",
       "      <td>0.536219</td>\n",
       "      <td>0.7812</td>\n",
       "      <td>0.198050</td>\n",
       "      <td>0.928804</td>\n",
       "      <td>19</td>\n",
       "    </tr>\n",
       "  </tbody>\n",
       "</table>\n",
       "</div>"
      ],
      "text/plain": [
       "    val_loss  val_accuracy      loss  accuracy  epoch\n",
       "0   0.661124        0.5982  0.706566  0.534550      0\n",
       "1   0.585726        0.6822  0.614887  0.661000      1\n",
       "2   0.544357        0.7176  0.535806  0.731350      2\n",
       "3   0.521348        0.7382  0.481766  0.770100      3\n",
       "4   0.499995        0.7532  0.441563  0.794799      4\n",
       "5   0.486171        0.7672  0.409220  0.813749      5\n",
       "6   0.483060        0.7738  0.382766  0.827600      6\n",
       "7   0.482392        0.7732  0.359491  0.840650      7\n",
       "8   0.480394        0.7784  0.339688  0.852699      8\n",
       "9   0.486884        0.7766  0.321205  0.862700      9\n",
       "10  0.484392        0.7786  0.304389  0.871351     10\n",
       "11  0.488417        0.7808  0.290028  0.880700     11\n",
       "12  0.492064        0.7826  0.275404  0.888452     12\n",
       "13  0.507607        0.7792  0.262565  0.896302     13\n",
       "14  0.502130        0.7818  0.250336  0.902353     14\n",
       "15  0.505467        0.7802  0.238328  0.909253     15\n",
       "16  0.524259        0.7796  0.227441  0.915653     16\n",
       "17  0.523206        0.7806  0.216754  0.919603     17\n",
       "18  0.527771        0.7798  0.207661  0.924003     18\n",
       "19  0.536219        0.7812  0.198050  0.928804     19"
      ]
     },
     "execution_count": 11,
     "metadata": {},
     "output_type": "execute_result"
    }
   ],
   "source": [
    "import pandas as pd\n",
    "# model history是一个json文件，然后使abs用DataFrame封装成表格的形式\n",
    "# history表示的是模型训abs练过程中的精确度\n",
    "history = model.history\n",
    "dfhistory = pd.DataFrame(history)"
   ]
  },
  {
   "cell_type": "markdown",
   "id": "99fe88ae",
   "metadata": {},
   "source": [
    "**绘制图片**"
   ]
  },
  {
   "cell_type": "code",
   "execution_count": 16,
   "id": "3ccc078e",
   "metadata": {},
   "outputs": [],
   "source": [
    "import matplotlib.pyplot as plt\n",
    "\n",
    "def plot_metric(dfhistory, metric):\n",
    "    train_metrics = dfhistory[metric]\n",
    "    val_metrics = dfhistory[\"val_\"+metric]\n",
    "    epochs = range(1, len(train_metrics)+1)\n",
    "    \n",
    "    plt.plot(epochs, train_metrics, 'bo--')\n",
    "    plt.plot(epochs, val_metrics,'ro-')\n",
    "    \n",
    "    plt.title(\"Training and validation \"+ metric)\n",
    "    plt.xlabel(\"Epochs\")\n",
    "    plt.ylabel(metric)\n",
    "    plt.legend(['train_'+metric, 'val_'+metric])\n",
    "    plt.show()"
   ]
  },
  {
   "cell_type": "code",
   "execution_count": 17,
   "id": "43d1b726",
   "metadata": {},
   "outputs": [
    {
     "data": {
      "image/png": "[encoded data removed]",
      "text/plain": [
       "<Figure size 432x288 with 1 Axes>"
      ]
     },
     "metadata": {
      "needs_background": "light"
     },
     "output_type": "display_data"
    }
   ],
   "source": [
    "plot_metric(dfhistory, 'loss')"
   ]
  },
  {
   "cell_type": "code",
   "execution_count": 19,
   "id": "71b93501",
   "metadata": {},
   "outputs": [
    {
     "data": {
      "image/png": "[encoded data removed]",
      "text/plain": [
       "<Figure size 432x288 with 1 Axes>"
      ]
     },
     "metadata": {
      "needs_background": "light"
     },
     "output_type": "display_data"
    }
   ],
   "source": [
    "plot_metric(dfhistory,\"accuracy\")"
   ]
  },
  {
   "cell_type": "code",
   "execution_count": 21,
   "id": "b6b861f3",
   "metadata": {},
   "outputs": [
    {
     "name": "stderr",
     "output_type": "stream",
     "text": [
      "/home/beta/anaconda3/envs/lye/lib/python3.7/site-packages/pytorch_lightning/trainer/trainer.py:680: LightningDeprecationWarning: `trainer.test(test_dataloaders)` is deprecated in v1.4 and will be removed in v1.6. Use `trainer.test(dataloaders)` instead.\n",
      "  \"`trainer.test(test_dataloaders)` is deprecated in v1.4 and will be removed in v1.6.\"\n"
     ]
    },
    {
     "data": {
      "application/vnd.jupyter.widget-view+json": {
       "model_id": "67a4b8fcd7304b138e418cb9999b307b",
       "version_major": 2,
       "version_minor": 0
      },
      "text/plain": [
       "Testing: 0it [00:00, ?it/s]"
      ]
     },
     "metadata": {},
     "output_type": "display_data"
    },
    {
     "name": "stderr",
     "output_type": "stream",
     "text": [
      "/home/beta/anaconda3/envs/lye/lib/python3.7/site-packages/torchtext/data/batch.py:23: UserWarning: Batch class will be retired soon and moved to torchtext.legacy. Please see the most recent release notes for further information.\n",
      "  warnings.warn('{} class will be retired soon and moved to torchtext.legacy. Please see the most recent release notes for further information.'.format(self.__class__.__name__), UserWarning)\n"
     ]
    },
    {
     "data": {
      "text/plain": [
       "{'test_loss': 0.5362191200256348, 'test_accuracy': 0.7811999917030334}"
      ]
     },
     "execution_count": 21,
     "metadata": {},
     "output_type": "execute_result"
    }
   ],
   "source": [
    "# 在测试集上做测试\n",
    "results = trainer.test(model, test_dataloaders=dl_valid, verbose=False)\n",
    "results[0]"
   ]
  },
  {
   "cell_type": "markdown",
   "id": "fe1a991f",
   "metadata": {},
   "source": [
    "## 使用模型"
   ]
  },
  {
   "cell_type": "code",
   "execution_count": 22,
   "id": "6d8feae8",
   "metadata": {},
   "outputs": [],
   "source": [
    "def predict(model, dl):\n",
    "    model.eval()\n",
    "    result = torch.cat([model.forward(t[0].to(model.device)) for t in dl])\n",
    "    return(result.data)"
   ]
  },
  {
   "cell_type": "code",
   "execution_count": 23,
   "id": "e25435b3",
   "metadata": {},
   "outputs": [
    {
     "name": "stderr",
     "output_type": "stream",
     "text": [
      "/home/beta/anaconda3/envs/lye/lib/python3.7/site-packages/torchtext/data/batch.py:23: UserWarning: Batch class will be retired soon and moved to torchtext.legacy. Please see the most recent release notes for further information.\n",
      "  warnings.warn('{} class will be retired soon and moved to torchtext.legacy. Please see the most recent release notes for further information.'.format(self.__class__.__name__), UserWarning)\n"
     ]
    },
    {
     "data": {
      "text/plain": [
       "tensor([[0.0055],\n",
       "        [0.8180],\n",
       "        [0.4875],\n",
       "        ...,\n",
       "        [0.9973],\n",
       "        [0.2952],\n",
       "        [0.0022]])"
      ]
     },
     "execution_count": 23,
     "metadata": {},
     "output_type": "execute_result"
    }
   ],
   "source": [
    "result = predict(model, dl_valid)\n",
    "result"
   ]
  },
  {
   "cell_type": "code",
   "execution_count": 38,
   "id": "29709d95",
   "metadata": {},
   "outputs": [
    {
     "name": "stdout",
     "output_type": "stream",
     "text": [
      "['halloween', 'is', 'the', 'story', 'of', 'a', 'boy', 'who', 'was', 'misunderstood', 'as', 'a', 'child', 'he', 'takes', 'out', 'his', 'problems', 'on', 'his', 'older', 'sister', 'whom', 'he', 'murders', 'at', 'the', 'beginning', 'of', 'the', 'film', 'this', 'is', 'just', 'the', 'start', 'of', 'things', 'to', 'come', 'from', 'michael', 'myersbr', 'br', 'donald', 'pleasance', 'plays', 'the', 'doctor', 'whos', 'been', 'studying', 'myers', 'for', 'years', 'he', 'knows', 'that', 'something', 'is', 'different', 'about', 'him', 'something', 'mysteriously', 'evil', 'this', 'evil', 'will', 'not', 'be', 'contained', 'and', 'it', 'cannot', 'be', 'stoppedbr', 'br', 'after', 'an', 'escape', 'from', 'an', 'institution', 'myers', 'tracks', 'down', 'his', 'younger', 'sister', 'if', 'he', 'kills', 'her', 'there', 'may', 'be', 'an', 'end', 'to', 'the', 'troubles', 'of', 'this', 'misunderstood', 'boy', 'but', 'he', 'seems', 'to', 'have', 'problems', 'in', 'finishing', 'his', 'sister', 'off', 'as', 'other', 'people', 'get', 'in', 'the', 'way', 'he', 'manages', 'to', 'take', 'them', 'out', 'while', 'still', 'looking', 'for', 'that', 'one', 'girl', 'he', 'needsbr', 'br', 'there', 'have', 'been', 'a', 'lot', 'of', 'those', 'horror', 'movies', 'involving', 'teenagers', 'getting', 'hacked', 'to', 'pieces', 'by', 'a', 'masked', 'or', 'gruesome', 'killer', 'but', 'this', 'one', 'started', 'it', 'all', 'sort', 'of', 'if', 'you', 'think', 'about', 'it', 'most', 'of', 'those', 'horror', 'movies', 'we', 'all', 'remember', 'are', 'the', 'ones', 'that', 'have', 'freddy', 'kruger', 'or', 'jason', 'chasing', 'around', 'half', 'naked', 'girls', 'well', 'if', 'it', 'wasnt', 'for', 'halloween', 'those', 'characters', 'wouldnt', 'have', 'haunted', 'our', 'dreams', 'when', 'we', 'were', 'childrenbr', 'br', 'halloweens', 'director', 'john', 'carpenter', 'got', 'a', 'lot', 'out', 'of', 'the', 'horror', 'movies', 'of', 'the', '50s', 'and', 'combined', 'everything', 'he', 'knew', 'into', 'one', 'film', 'that', 'scared', 'the', 'hell', 'out', 'of', 'a', 'lot', 'of', 'people', 'back', 'in', 'the', 'late', '70s', 'this', 'films', 'solidified', 'him', 'as', 'a', 'director', 'to', 'watch', 'and', 'also', 'jump', 'started', 'the', 'career', 'of', 'jamie', 'lee', 'curtis', 'who', 'plays', 'the', 'girl', 'being', 'stalked', 'by', 'the', 'masked', 'killerbr', 'br', 'this', 'film', 'may', 'seem', 'cliché', 'today', 'but', 'back', 'then', 'there', 'wasnt', 'much', 'out', 'there', 'like', 'this', 'its', 'been', 'copied', 'from', 'and', 'ripped', 'off', 'of', 'but', 'halloween', 'will', 'always', 'remain', 'the', 'quintessential', 'teenage', 'horror', 'movie', 'it', 'still', 'gives', 'you', 'chills', 'listening', 'to', 'carpenters', 'thrilling', 'music', 'while', 'we', 'see', 'another', 'victim', 'get', 'chased', 'by', 'that', 'shadowy', 'michael', 'myers']\n",
      "1\n",
      "tensor([0.4805])\n"
     ]
    }
   ],
   "source": [
    "print(ds_valid[4].text)\n",
    "print(ds_valid[4].label)\n",
    "print(result[4])"
   ]
  },
  {
   "cell_type": "markdown",
   "id": "5e32c6c1",
   "metadata": {},
   "source": [
    "## 保存模型"
   ]
  },
  {
   "cell_type": "code",
   "execution_count": 40,
   "id": "fd038016",
   "metadata": {},
   "outputs": [
    {
     "name": "stdout",
     "output_type": "stream",
     "text": [
      "tensor(0.4804)\n"
     ]
    }
   ],
   "source": [
    "print(ckpt_cb.best_model_score)\n",
    "model.load_from_checkpoint(ckpt_cb.best_model_path)\n",
    "\n",
    "best_net = model.net\n",
    "torch.save(best_net.state_dict(),\"./data/net.pt\")"
   ]
  },
  {
   "cell_type": "code",
   "execution_count": 41,
   "id": "cd2a6f5d",
   "metadata": {},
   "outputs": [
    {
     "name": "stderr",
     "output_type": "stream",
     "text": [
      "GPU available: True, used: False\n",
      "TPU available: False, using: 0 TPU cores\n",
      "IPU available: False, using: 0 IPUs\n",
      "/home/beta/anaconda3/envs/lye/lib/python3.7/site-packages/pytorch_lightning/trainer/trainer.py:1293: UserWarning: GPU available but not used. Set the gpus flag in your trainer `Trainer(gpus=1)` or script `--gpus=1`.\n",
      "  \"GPU available but not used. Set the gpus flag in your trainer\"\n",
      "/home/beta/anaconda3/envs/lye/lib/python3.7/site-packages/pytorch_lightning/trainer/trainer.py:680: LightningDeprecationWarning: `trainer.test(test_dataloaders)` is deprecated in v1.4 and will be removed in v1.6. Use `trainer.test(dataloaders)` instead.\n",
      "  \"`trainer.test(test_dataloaders)` is deprecated in v1.4 and will be removed in v1.6.\"\n"
     ]
    },
    {
     "data": {
      "application/vnd.jupyter.widget-view+json": {
       "model_id": "d853aaba71df43d691f773eca0331982",
       "version_major": 2,
       "version_minor": 0
      },
      "text/plain": [
       "Testing: 0it [00:00, ?it/s]"
      ]
     },
     "metadata": {},
     "output_type": "display_data"
    },
    {
     "name": "stderr",
     "output_type": "stream",
     "text": [
      "/home/beta/anaconda3/envs/lye/lib/python3.7/site-packages/torchtext/data/batch.py:23: UserWarning: Batch class will be retired soon and moved to torchtext.legacy. Please see the most recent release notes for further information.\n",
      "  warnings.warn('{} class will be retired soon and moved to torchtext.legacy. Please see the most recent release notes for further information.'.format(self.__class__.__name__), UserWarning)\n"
     ]
    },
    {
     "data": {
      "text/plain": [
       "[{'test_loss': 0.5362191200256348, 'test_accuracy': 0.7811999917030334}]"
      ]
     },
     "execution_count": 41,
     "metadata": {},
     "output_type": "execute_result"
    }
   ],
   "source": [
    "net_clone = Net()\n",
    "net_clone.load_state_dict(torch.load(\"./data/net.pt\"))\n",
    "model_clone = Model(net_clone)\n",
    "trainer = pl.Trainer()\n",
    "result = trainer.test(model_clone, test_dataloaders=dl_valid, verbose=False)\n",
    "result"
   ]
  }
 ],
 "metadata": {
  "kernelspec": {
   "display_name": "Python 3",
   "language": "python",
   "name": "python3"
  },
  "language_info": {
   "codemirror_mode": {
    "name": "ipython",
    "version": 3
   },
   "file_extension": ".py",
   "mimetype": "text/x-python",
   "name": "python",
   "nbconvert_exporter": "python",
   "pygments_lexer": "ipython3",
   "version": "3.7.0"
  },
  "toc": {
   "base_numbering": 1,
   "nav_menu": {},
   "number_sections": true,
   "sideBar": true,
   "skip_h1_title": false,
   "title_cell": "Table of Contents",
   "title_sidebar": "Contents",
   "toc_cell": false,
   "toc_position": {
    "height": "calc(100% - 180px)",
    "left": "10px",
    "top": "150px",
    "width": "350px"
   },
   "toc_section_display": true,
   "toc_window_display": true
  }
 },
 "nbformat": 4,
 "nbformat_minor": 5
}
